{
  "nbformat": 4,
  "nbformat_minor": 0,
  "metadata": {
    "colab": {
      "name": "Projeto - Módulo 4.ipynb",
      "provenance": [],
      "collapsed_sections": [
        "w8XPCr6UksHS",
        "jOfTwhDaZF2s",
        "KuGtlLFr6Lgy",
        "-EFoj1ZPbcje",
        "6b-GDi1JwSx7",
        "IAMrOMeYvJ0F",
        "30Gw7Ponu6QO",
        "VpHnSVuMwMee",
        "PiLvmVC7QvFS",
        "jB9jFPpDOC41"
      ],
      "mount_file_id": "1gxq-VryA7ognn6A0FUarjopnXvtJ8b9K",
      "authorship_tag": "ABX9TyNYO82Xf2xb2M9L78SNaZY7",
      "include_colab_link": true
    },
    "kernelspec": {
      "name": "python3",
      "display_name": "Python 3"
    },
    "language_info": {
      "name": "python"
    }
  },
  "cells": [
    {
      "cell_type": "markdown",
      "metadata": {
        "id": "view-in-github",
        "colab_type": "text"
      },
      "source": [
        "<a href=\"https://colab.research.google.com/github/tsffarias/ibge-nomes-brasil/blob/main/Projeto_M%C3%B3dulo_4.ipynb\" target=\"_parent\"><img src=\"https://colab.research.google.com/assets/colab-badge.svg\" alt=\"Open In Colab\"/></a>"
      ]
    },
    {
      "cell_type": "markdown",
      "metadata": {
        "id": "nun0J02TJeGh"
      },
      "source": [
        "# Projeto 4 (Vamo AI) - Storytelling com dados\n",
        "* **Base de dados:** br_ibge_nomes_brasil (Nomes no Brasil)\n",
        "* **Integrantes do Time:** Mariãn do Carmo, Luzivan Lira, Thiago Silva"
      ]
    },
    {
      "cell_type": "markdown",
      "metadata": {
        "id": "w8XPCr6UksHS"
      },
      "source": [
        "# Importando Base dos Dados"
      ]
    },
    {
      "cell_type": "code",
      "metadata": {
        "id": "mhEyfIH3D5HT"
      },
      "source": [
        "# download bibliotecatas\n",
        "!pip install basedosdados\n",
        "!pip install --upgrade spacy\n",
        "!python -m spacy download pt_core_news_sm"
      ],
      "execution_count": null,
      "outputs": []
    },
    {
      "cell_type": "code",
      "metadata": {
        "id": "IDHFxKT3z4jR"
      },
      "source": [
        "#import basedosdados as bd\n",
        "#import spacy\n",
        "import pandas as pd\n",
        "import numpy as np\n",
        "import matplotlib.pyplot as plt\n",
        "import seaborn as sns\n",
        "\n",
        "#sp = spacy.load('pt_core_news_sm')"
      ],
      "execution_count": null,
      "outputs": []
    },
    {
      "cell_type": "code",
      "metadata": {
        "colab": {
          "base_uri": "https://localhost:8080/"
        },
        "id": "KpjLZ3MKzsLC",
        "outputId": "1d88da5d-5ea0-46ea-824e-4030f36c331c"
      },
      "source": [
        "bd.list_datasets(filter_by='nomes')"
      ],
      "execution_count": null,
      "outputs": [
        {
          "output_type": "stream",
          "text": [
            "\n",
            "dataset_id: \n",
            "\tbr_ibge_nomes_brasil \n",
            "-----------------------------------------------------------------------------------------------\n",
            "\n"
          ],
          "name": "stdout"
        }
      ]
    },
    {
      "cell_type": "code",
      "metadata": {
        "id": "UemM4BQdkWrv",
        "colab": {
          "base_uri": "https://localhost:8080/"
        },
        "outputId": "6a757625-e0dc-446c-f436-b5f0dff5e230"
      },
      "source": [
        "df = bd.read_table(dataset_id='br_ibge_nomes_brasil', \n",
        "            table_id='quantidade_municipio_nome_2010',\n",
        "            billing_project_id='basedosdados-317301')"
      ],
      "execution_count": null,
      "outputs": [
        {
          "output_type": "stream",
          "text": [
            "Downloading: 100%|██████████| 1959116/1959116 [00:04<00:00, 467156.60rows/s]\n"
          ],
          "name": "stderr"
        }
      ]
    },
    {
      "cell_type": "code",
      "metadata": {
        "id": "NNRwxByg1bcC"
      },
      "source": [
        "# salvando arquivo em csv\n",
        "df.to_csv('br_ibge_nomes_brasil.csv')"
      ],
      "execution_count": null,
      "outputs": []
    },
    {
      "cell_type": "code",
      "metadata": {
        "colab": {
          "base_uri": "https://localhost:8080/",
          "height": 203
        },
        "id": "zmpuBdza2nzK",
        "outputId": "32710748-38dc-4892-dac6-e93a3b7958c7"
      },
      "source": [
        "df = pd.read_csv('/content/drive/MyDrive/datasets/datasets_brasil_info/br_ibge_nomes_brasil.csv')\n",
        "df.head()"
      ],
      "execution_count": null,
      "outputs": [
        {
          "output_type": "execute_result",
          "data": {
            "text/html": [
              "<div>\n",
              "<style scoped>\n",
              "    .dataframe tbody tr th:only-of-type {\n",
              "        vertical-align: middle;\n",
              "    }\n",
              "\n",
              "    .dataframe tbody tr th {\n",
              "        vertical-align: top;\n",
              "    }\n",
              "\n",
              "    .dataframe thead th {\n",
              "        text-align: right;\n",
              "    }\n",
              "</style>\n",
              "<table border=\"1\" class=\"dataframe\">\n",
              "  <thead>\n",
              "    <tr style=\"text-align: right;\">\n",
              "      <th></th>\n",
              "      <th>Unnamed: 0</th>\n",
              "      <th>id_municipio</th>\n",
              "      <th>nome</th>\n",
              "      <th>qtde_nascimentos_ate_2010</th>\n",
              "    </tr>\n",
              "  </thead>\n",
              "  <tbody>\n",
              "    <tr>\n",
              "      <th>0</th>\n",
              "      <td>0</td>\n",
              "      <td>1100015</td>\n",
              "      <td>Ademir</td>\n",
              "      <td>46</td>\n",
              "    </tr>\n",
              "    <tr>\n",
              "      <th>1</th>\n",
              "      <td>1</td>\n",
              "      <td>1100015</td>\n",
              "      <td>Adriana</td>\n",
              "      <td>60</td>\n",
              "    </tr>\n",
              "    <tr>\n",
              "      <th>2</th>\n",
              "      <td>2</td>\n",
              "      <td>1100015</td>\n",
              "      <td>Aline</td>\n",
              "      <td>77</td>\n",
              "    </tr>\n",
              "    <tr>\n",
              "      <th>3</th>\n",
              "      <td>3</td>\n",
              "      <td>1100015</td>\n",
              "      <td>Amanda</td>\n",
              "      <td>51</td>\n",
              "    </tr>\n",
              "    <tr>\n",
              "      <th>4</th>\n",
              "      <td>4</td>\n",
              "      <td>1100015</td>\n",
              "      <td>Ana</td>\n",
              "      <td>300</td>\n",
              "    </tr>\n",
              "  </tbody>\n",
              "</table>\n",
              "</div>"
            ],
            "text/plain": [
              "   Unnamed: 0  id_municipio     nome  qtde_nascimentos_ate_2010\n",
              "0           0       1100015   Ademir                         46\n",
              "1           1       1100015  Adriana                         60\n",
              "2           2       1100015    Aline                         77\n",
              "3           3       1100015   Amanda                         51\n",
              "4           4       1100015      Ana                        300"
            ]
          },
          "metadata": {
            "tags": []
          },
          "execution_count": 8
        }
      ]
    },
    {
      "cell_type": "markdown",
      "metadata": {
        "id": "jOfTwhDaZF2s"
      },
      "source": [
        "# Adicionando UF, Municipio e Região ao dataset"
      ]
    },
    {
      "cell_type": "code",
      "metadata": {
        "colab": {
          "base_uri": "https://localhost:8080/"
        },
        "id": "sX-OX0bgZIU7",
        "outputId": "c48a11eb-2d3f-41a9-8fa5-65f13cf3cac1"
      },
      "source": [
        "dataset_diretorios = bd.read_table(dataset_id='br_bd_diretorios_brasil', \n",
        "            table_id='municipio',\n",
        "            billing_project_id='basedosdados-317301')"
      ],
      "execution_count": null,
      "outputs": [
        {
          "output_type": "stream",
          "text": [
            "Please visit this URL to authorize this application: https://accounts.google.com/o/oauth2/auth?response_type=code&client_id=262006177488-3425ks60hkk80fssi9vpohv88g6q1iqd.apps.googleusercontent.com&redirect_uri=urn%3Aietf%3Awg%3Aoauth%3A2.0%3Aoob&scope=https%3A%2F%2Fwww.googleapis.com%2Fauth%2Fcloud-platform&state=XFQssaTXtTtuErOClAfDn1pSe9XDwF&prompt=consent&access_type=offline\n",
            "Enter the authorization code: 4/1AY0e-g5S5dFo_hnrBxPgDL-BYfXhHuGN7jOb1Y88NXaPCIeulE9qoxa7W4A\n"
          ],
          "name": "stdout"
        },
        {
          "output_type": "stream",
          "text": [
            "Downloading: 100%|██████████| 5570/5570 [00:03<00:00, 1396.72rows/s]\n"
          ],
          "name": "stderr"
        }
      ]
    },
    {
      "cell_type": "code",
      "metadata": {
        "id": "qEJ02sVda_d8"
      },
      "source": [
        "# salvando arquivo em csv\n",
        "dataset_diretorios.to_csv('br_bd_diretorios_brasil.csv', index=False)"
      ],
      "execution_count": null,
      "outputs": []
    },
    {
      "cell_type": "code",
      "metadata": {
        "colab": {
          "base_uri": "https://localhost:8080/",
          "height": 324
        },
        "id": "FrA4tYnkbO2T",
        "outputId": "0c92f9f7-db86-40e9-f041-f693ee428a57"
      },
      "source": [
        "dataset_diretorios = pd.read_csv('/content/drive/MyDrive/datasets/datasets_brasil_info/br_bd_diretorios_brasil.csv')\n",
        "dataset_diretorios.head()"
      ],
      "execution_count": null,
      "outputs": [
        {
          "output_type": "execute_result",
          "data": {
            "text/html": [
              "<div>\n",
              "<style scoped>\n",
              "    .dataframe tbody tr th:only-of-type {\n",
              "        vertical-align: middle;\n",
              "    }\n",
              "\n",
              "    .dataframe tbody tr th {\n",
              "        vertical-align: top;\n",
              "    }\n",
              "\n",
              "    .dataframe thead th {\n",
              "        text-align: right;\n",
              "    }\n",
              "</style>\n",
              "<table border=\"1\" class=\"dataframe\">\n",
              "  <thead>\n",
              "    <tr style=\"text-align: right;\">\n",
              "      <th></th>\n",
              "      <th>Unnamed: 0</th>\n",
              "      <th>id_municipio</th>\n",
              "      <th>id_municipio_6</th>\n",
              "      <th>id_municipio_tse</th>\n",
              "      <th>id_municipio_rf</th>\n",
              "      <th>id_municipio_bcb</th>\n",
              "      <th>municipio</th>\n",
              "      <th>capital_uf</th>\n",
              "      <th>id_comarca</th>\n",
              "      <th>id_regiao_saude</th>\n",
              "      <th>regiao_saude</th>\n",
              "      <th>id_regiao_imediata</th>\n",
              "      <th>regiao_imediata</th>\n",
              "      <th>id_regiao_intermediaria</th>\n",
              "      <th>regiao_intermediaria</th>\n",
              "      <th>id_microrregiao</th>\n",
              "      <th>microrregiao</th>\n",
              "      <th>id_mesorregiao</th>\n",
              "      <th>mesorregiao</th>\n",
              "      <th>ddd</th>\n",
              "      <th>id_uf</th>\n",
              "      <th>sigla_uf</th>\n",
              "      <th>uf</th>\n",
              "      <th>regiao</th>\n",
              "    </tr>\n",
              "  </thead>\n",
              "  <tbody>\n",
              "    <tr>\n",
              "      <th>0</th>\n",
              "      <td>0</td>\n",
              "      <td>1100023</td>\n",
              "      <td>110002</td>\n",
              "      <td>78</td>\n",
              "      <td>7</td>\n",
              "      <td>9393.0</td>\n",
              "      <td>Ariquemes</td>\n",
              "      <td>0</td>\n",
              "      <td>1100023</td>\n",
              "      <td>11001</td>\n",
              "      <td>Vale do Jamari</td>\n",
              "      <td>110002</td>\n",
              "      <td>Ariquemes</td>\n",
              "      <td>1101</td>\n",
              "      <td>Porto Velho</td>\n",
              "      <td>11003</td>\n",
              "      <td>Ariquemes</td>\n",
              "      <td>1102</td>\n",
              "      <td>Leste Rondoniense</td>\n",
              "      <td>69</td>\n",
              "      <td>11</td>\n",
              "      <td>RO</td>\n",
              "      <td>Rondônia</td>\n",
              "      <td>Norte</td>\n",
              "    </tr>\n",
              "    <tr>\n",
              "      <th>1</th>\n",
              "      <td>1</td>\n",
              "      <td>1100106</td>\n",
              "      <td>110010</td>\n",
              "      <td>19</td>\n",
              "      <td>1</td>\n",
              "      <td>22882.0</td>\n",
              "      <td>Guajará-Mirim</td>\n",
              "      <td>0</td>\n",
              "      <td>1100106</td>\n",
              "      <td>11004</td>\n",
              "      <td>Madeira-Mamoré</td>\n",
              "      <td>110001</td>\n",
              "      <td>Porto Velho</td>\n",
              "      <td>1101</td>\n",
              "      <td>Porto Velho</td>\n",
              "      <td>11002</td>\n",
              "      <td>Guajará-Mirim</td>\n",
              "      <td>1101</td>\n",
              "      <td>Madeira-Guaporé</td>\n",
              "      <td>69</td>\n",
              "      <td>11</td>\n",
              "      <td>RO</td>\n",
              "      <td>Rondônia</td>\n",
              "      <td>Norte</td>\n",
              "    </tr>\n",
              "    <tr>\n",
              "      <th>2</th>\n",
              "      <td>2</td>\n",
              "      <td>1100114</td>\n",
              "      <td>110011</td>\n",
              "      <td>159</td>\n",
              "      <td>15</td>\n",
              "      <td>41258.0</td>\n",
              "      <td>Jaru</td>\n",
              "      <td>0</td>\n",
              "      <td>1100114</td>\n",
              "      <td>11003</td>\n",
              "      <td>Central</td>\n",
              "      <td>110003</td>\n",
              "      <td>Jaru</td>\n",
              "      <td>1101</td>\n",
              "      <td>Porto Velho</td>\n",
              "      <td>11004</td>\n",
              "      <td>Ji-Paraná</td>\n",
              "      <td>1102</td>\n",
              "      <td>Leste Rondoniense</td>\n",
              "      <td>69</td>\n",
              "      <td>11</td>\n",
              "      <td>RO</td>\n",
              "      <td>Rondônia</td>\n",
              "      <td>Norte</td>\n",
              "    </tr>\n",
              "    <tr>\n",
              "      <th>3</th>\n",
              "      <td>3</td>\n",
              "      <td>1100130</td>\n",
              "      <td>110013</td>\n",
              "      <td>396</td>\n",
              "      <td>39</td>\n",
              "      <td>44547.0</td>\n",
              "      <td>Machadinho D'Oeste</td>\n",
              "      <td>0</td>\n",
              "      <td>1100130</td>\n",
              "      <td>11001</td>\n",
              "      <td>Vale do Jamari</td>\n",
              "      <td>110003</td>\n",
              "      <td>Jaru</td>\n",
              "      <td>1101</td>\n",
              "      <td>Porto Velho</td>\n",
              "      <td>11003</td>\n",
              "      <td>Ariquemes</td>\n",
              "      <td>1102</td>\n",
              "      <td>Leste Rondoniense</td>\n",
              "      <td>69</td>\n",
              "      <td>11</td>\n",
              "      <td>RO</td>\n",
              "      <td>Rondônia</td>\n",
              "      <td>Norte</td>\n",
              "    </tr>\n",
              "    <tr>\n",
              "      <th>4</th>\n",
              "      <td>4</td>\n",
              "      <td>1100205</td>\n",
              "      <td>110020</td>\n",
              "      <td>35</td>\n",
              "      <td>3</td>\n",
              "      <td>30719.0</td>\n",
              "      <td>Porto Velho</td>\n",
              "      <td>1</td>\n",
              "      <td>1100205</td>\n",
              "      <td>11004</td>\n",
              "      <td>Madeira-Mamoré</td>\n",
              "      <td>110001</td>\n",
              "      <td>Porto Velho</td>\n",
              "      <td>1101</td>\n",
              "      <td>Porto Velho</td>\n",
              "      <td>11001</td>\n",
              "      <td>Porto Velho</td>\n",
              "      <td>1101</td>\n",
              "      <td>Madeira-Guaporé</td>\n",
              "      <td>69</td>\n",
              "      <td>11</td>\n",
              "      <td>RO</td>\n",
              "      <td>Rondônia</td>\n",
              "      <td>Norte</td>\n",
              "    </tr>\n",
              "  </tbody>\n",
              "</table>\n",
              "</div>"
            ],
            "text/plain": [
              "   Unnamed: 0  id_municipio  id_municipio_6  ...  sigla_uf        uf  regiao\n",
              "0           0       1100023          110002  ...        RO  Rondônia   Norte\n",
              "1           1       1100106          110010  ...        RO  Rondônia   Norte\n",
              "2           2       1100114          110011  ...        RO  Rondônia   Norte\n",
              "3           3       1100130          110013  ...        RO  Rondônia   Norte\n",
              "4           4       1100205          110020  ...        RO  Rondônia   Norte\n",
              "\n",
              "[5 rows x 24 columns]"
            ]
          },
          "metadata": {
            "tags": []
          },
          "execution_count": 2
        }
      ]
    },
    {
      "cell_type": "code",
      "metadata": {
        "colab": {
          "base_uri": "https://localhost:8080/",
          "height": 234
        },
        "id": "wcl93z8Ibni7",
        "outputId": "9c37c50b-803d-4297-a988-ce284de00409"
      },
      "source": [
        "dataset_diretorios = dataset_diretorios[['id_municipio', 'uf', 'municipio','regiao']].set_index('id_municipio')\n",
        "dataset_diretorios.head()"
      ],
      "execution_count": null,
      "outputs": [
        {
          "output_type": "execute_result",
          "data": {
            "text/html": [
              "<div>\n",
              "<style scoped>\n",
              "    .dataframe tbody tr th:only-of-type {\n",
              "        vertical-align: middle;\n",
              "    }\n",
              "\n",
              "    .dataframe tbody tr th {\n",
              "        vertical-align: top;\n",
              "    }\n",
              "\n",
              "    .dataframe thead th {\n",
              "        text-align: right;\n",
              "    }\n",
              "</style>\n",
              "<table border=\"1\" class=\"dataframe\">\n",
              "  <thead>\n",
              "    <tr style=\"text-align: right;\">\n",
              "      <th></th>\n",
              "      <th>uf</th>\n",
              "      <th>municipio</th>\n",
              "      <th>regiao</th>\n",
              "    </tr>\n",
              "    <tr>\n",
              "      <th>id_municipio</th>\n",
              "      <th></th>\n",
              "      <th></th>\n",
              "      <th></th>\n",
              "    </tr>\n",
              "  </thead>\n",
              "  <tbody>\n",
              "    <tr>\n",
              "      <th>1100023</th>\n",
              "      <td>Rondônia</td>\n",
              "      <td>Ariquemes</td>\n",
              "      <td>Norte</td>\n",
              "    </tr>\n",
              "    <tr>\n",
              "      <th>1100106</th>\n",
              "      <td>Rondônia</td>\n",
              "      <td>Guajará-Mirim</td>\n",
              "      <td>Norte</td>\n",
              "    </tr>\n",
              "    <tr>\n",
              "      <th>1100114</th>\n",
              "      <td>Rondônia</td>\n",
              "      <td>Jaru</td>\n",
              "      <td>Norte</td>\n",
              "    </tr>\n",
              "    <tr>\n",
              "      <th>1100130</th>\n",
              "      <td>Rondônia</td>\n",
              "      <td>Machadinho D'Oeste</td>\n",
              "      <td>Norte</td>\n",
              "    </tr>\n",
              "    <tr>\n",
              "      <th>1100205</th>\n",
              "      <td>Rondônia</td>\n",
              "      <td>Porto Velho</td>\n",
              "      <td>Norte</td>\n",
              "    </tr>\n",
              "  </tbody>\n",
              "</table>\n",
              "</div>"
            ],
            "text/plain": [
              "                    uf           municipio regiao\n",
              "id_municipio                                     \n",
              "1100023       Rondônia           Ariquemes  Norte\n",
              "1100106       Rondônia       Guajará-Mirim  Norte\n",
              "1100114       Rondônia                Jaru  Norte\n",
              "1100130       Rondônia  Machadinho D'Oeste  Norte\n",
              "1100205       Rondônia         Porto Velho  Norte"
            ]
          },
          "metadata": {
            "tags": []
          },
          "execution_count": 5
        }
      ]
    },
    {
      "cell_type": "code",
      "metadata": {
        "colab": {
          "base_uri": "https://localhost:8080/"
        },
        "id": "OpTC_41wb4yj",
        "outputId": "ad05ea60-46e6-4000-e2fc-88540b9115e9"
      },
      "source": [
        "dataset_diretorios.shape"
      ],
      "execution_count": null,
      "outputs": [
        {
          "output_type": "execute_result",
          "data": {
            "text/plain": [
              "(5570, 3)"
            ]
          },
          "metadata": {
            "tags": []
          },
          "execution_count": 6
        }
      ]
    },
    {
      "cell_type": "code",
      "metadata": {
        "id": "Y8PbrfTAoct8",
        "colab": {
          "base_uri": "https://localhost:8080/",
          "height": 203
        },
        "outputId": "0607b72f-d650-45fa-810f-41d0dff319bb"
      },
      "source": [
        "# realizando o join dos datasets\n",
        "dataset_nomes_brasil = df.join(dataset_diretorios, on='id_municipio')\n",
        "dataset_nomes_brasil.head()"
      ],
      "execution_count": null,
      "outputs": [
        {
          "output_type": "execute_result",
          "data": {
            "text/html": [
              "<div>\n",
              "<style scoped>\n",
              "    .dataframe tbody tr th:only-of-type {\n",
              "        vertical-align: middle;\n",
              "    }\n",
              "\n",
              "    .dataframe tbody tr th {\n",
              "        vertical-align: top;\n",
              "    }\n",
              "\n",
              "    .dataframe thead th {\n",
              "        text-align: right;\n",
              "    }\n",
              "</style>\n",
              "<table border=\"1\" class=\"dataframe\">\n",
              "  <thead>\n",
              "    <tr style=\"text-align: right;\">\n",
              "      <th></th>\n",
              "      <th>Unnamed: 0</th>\n",
              "      <th>id_municipio</th>\n",
              "      <th>nome</th>\n",
              "      <th>qtde_nascimentos_ate_2010</th>\n",
              "      <th>uf</th>\n",
              "      <th>municipio</th>\n",
              "      <th>regiao</th>\n",
              "    </tr>\n",
              "  </thead>\n",
              "  <tbody>\n",
              "    <tr>\n",
              "      <th>0</th>\n",
              "      <td>0</td>\n",
              "      <td>1100015</td>\n",
              "      <td>Ademir</td>\n",
              "      <td>46</td>\n",
              "      <td>Rondônia</td>\n",
              "      <td>Alta Floresta D'Oeste</td>\n",
              "      <td>Norte</td>\n",
              "    </tr>\n",
              "    <tr>\n",
              "      <th>1</th>\n",
              "      <td>1</td>\n",
              "      <td>1100015</td>\n",
              "      <td>Adriana</td>\n",
              "      <td>60</td>\n",
              "      <td>Rondônia</td>\n",
              "      <td>Alta Floresta D'Oeste</td>\n",
              "      <td>Norte</td>\n",
              "    </tr>\n",
              "    <tr>\n",
              "      <th>2</th>\n",
              "      <td>2</td>\n",
              "      <td>1100015</td>\n",
              "      <td>Aline</td>\n",
              "      <td>77</td>\n",
              "      <td>Rondônia</td>\n",
              "      <td>Alta Floresta D'Oeste</td>\n",
              "      <td>Norte</td>\n",
              "    </tr>\n",
              "    <tr>\n",
              "      <th>3</th>\n",
              "      <td>3</td>\n",
              "      <td>1100015</td>\n",
              "      <td>Amanda</td>\n",
              "      <td>51</td>\n",
              "      <td>Rondônia</td>\n",
              "      <td>Alta Floresta D'Oeste</td>\n",
              "      <td>Norte</td>\n",
              "    </tr>\n",
              "    <tr>\n",
              "      <th>4</th>\n",
              "      <td>4</td>\n",
              "      <td>1100015</td>\n",
              "      <td>Ana</td>\n",
              "      <td>300</td>\n",
              "      <td>Rondônia</td>\n",
              "      <td>Alta Floresta D'Oeste</td>\n",
              "      <td>Norte</td>\n",
              "    </tr>\n",
              "  </tbody>\n",
              "</table>\n",
              "</div>"
            ],
            "text/plain": [
              "   Unnamed: 0  id_municipio     nome  ...        uf              municipio regiao\n",
              "0           0       1100015   Ademir  ...  Rondônia  Alta Floresta D'Oeste  Norte\n",
              "1           1       1100015  Adriana  ...  Rondônia  Alta Floresta D'Oeste  Norte\n",
              "2           2       1100015    Aline  ...  Rondônia  Alta Floresta D'Oeste  Norte\n",
              "3           3       1100015   Amanda  ...  Rondônia  Alta Floresta D'Oeste  Norte\n",
              "4           4       1100015      Ana  ...  Rondônia  Alta Floresta D'Oeste  Norte\n",
              "\n",
              "[5 rows x 7 columns]"
            ]
          },
          "metadata": {
            "tags": []
          },
          "execution_count": 9
        }
      ]
    },
    {
      "cell_type": "code",
      "metadata": {
        "id": "q94Imr1LeKDM"
      },
      "source": [
        "# salvando arquivo em csv\n",
        "dataset_nomes_brasil.to_csv('dataset_nomes_brasil.csv', index=False)"
      ],
      "execution_count": null,
      "outputs": []
    },
    {
      "cell_type": "code",
      "metadata": {
        "colab": {
          "base_uri": "https://localhost:8080/",
          "height": 203
        },
        "id": "XLhCDlIyeYpj",
        "outputId": "fe611d3b-8f1a-45ee-ddbd-547afd549aac"
      },
      "source": [
        "dataset_nomes_brasil = pd.read_csv('/content/drive/MyDrive/datasets/datasets_brasil_info/dataset_nomes_brasil.csv')\n",
        "dataset_nomes_brasil.head()"
      ],
      "execution_count": null,
      "outputs": [
        {
          "output_type": "execute_result",
          "data": {
            "text/html": [
              "<div>\n",
              "<style scoped>\n",
              "    .dataframe tbody tr th:only-of-type {\n",
              "        vertical-align: middle;\n",
              "    }\n",
              "\n",
              "    .dataframe tbody tr th {\n",
              "        vertical-align: top;\n",
              "    }\n",
              "\n",
              "    .dataframe thead th {\n",
              "        text-align: right;\n",
              "    }\n",
              "</style>\n",
              "<table border=\"1\" class=\"dataframe\">\n",
              "  <thead>\n",
              "    <tr style=\"text-align: right;\">\n",
              "      <th></th>\n",
              "      <th>id_municipio</th>\n",
              "      <th>nome</th>\n",
              "      <th>qtde_nascimentos_ate_2010</th>\n",
              "      <th>uf</th>\n",
              "      <th>municipio</th>\n",
              "      <th>regiao</th>\n",
              "      <th>país</th>\n",
              "    </tr>\n",
              "  </thead>\n",
              "  <tbody>\n",
              "    <tr>\n",
              "      <th>0</th>\n",
              "      <td>1100015</td>\n",
              "      <td>Ademir</td>\n",
              "      <td>46</td>\n",
              "      <td>Rondônia</td>\n",
              "      <td>Alta Floresta D'Oeste</td>\n",
              "      <td>Norte</td>\n",
              "      <td>Brasil</td>\n",
              "    </tr>\n",
              "    <tr>\n",
              "      <th>1</th>\n",
              "      <td>1100015</td>\n",
              "      <td>Adriana</td>\n",
              "      <td>60</td>\n",
              "      <td>Rondônia</td>\n",
              "      <td>Alta Floresta D'Oeste</td>\n",
              "      <td>Norte</td>\n",
              "      <td>Brasil</td>\n",
              "    </tr>\n",
              "    <tr>\n",
              "      <th>2</th>\n",
              "      <td>1100015</td>\n",
              "      <td>Aline</td>\n",
              "      <td>77</td>\n",
              "      <td>Rondônia</td>\n",
              "      <td>Alta Floresta D'Oeste</td>\n",
              "      <td>Norte</td>\n",
              "      <td>Brasil</td>\n",
              "    </tr>\n",
              "    <tr>\n",
              "      <th>3</th>\n",
              "      <td>1100015</td>\n",
              "      <td>Amanda</td>\n",
              "      <td>51</td>\n",
              "      <td>Rondônia</td>\n",
              "      <td>Alta Floresta D'Oeste</td>\n",
              "      <td>Norte</td>\n",
              "      <td>Brasil</td>\n",
              "    </tr>\n",
              "    <tr>\n",
              "      <th>4</th>\n",
              "      <td>1100015</td>\n",
              "      <td>Ana</td>\n",
              "      <td>300</td>\n",
              "      <td>Rondônia</td>\n",
              "      <td>Alta Floresta D'Oeste</td>\n",
              "      <td>Norte</td>\n",
              "      <td>Brasil</td>\n",
              "    </tr>\n",
              "  </tbody>\n",
              "</table>\n",
              "</div>"
            ],
            "text/plain": [
              "   id_municipio     nome  ...  regiao    país\n",
              "0       1100015   Ademir  ...   Norte  Brasil\n",
              "1       1100015  Adriana  ...   Norte  Brasil\n",
              "2       1100015    Aline  ...   Norte  Brasil\n",
              "3       1100015   Amanda  ...   Norte  Brasil\n",
              "4       1100015      Ana  ...   Norte  Brasil\n",
              "\n",
              "[5 rows x 7 columns]"
            ]
          },
          "metadata": {
            "tags": []
          },
          "execution_count": 3
        }
      ]
    },
    {
      "cell_type": "code",
      "metadata": {
        "colab": {
          "base_uri": "https://localhost:8080/"
        },
        "id": "ISCDcOVDlhkj",
        "outputId": "bc688d8e-3ba7-42ec-85ab-0b2cb30166cd"
      },
      "source": [
        "dataset_nomes_brasil.shape"
      ],
      "execution_count": null,
      "outputs": [
        {
          "output_type": "execute_result",
          "data": {
            "text/plain": [
              "(1959116, 7)"
            ]
          },
          "metadata": {
            "tags": []
          },
          "execution_count": 3
        }
      ]
    },
    {
      "cell_type": "markdown",
      "metadata": {
        "id": "KuGtlLFr6Lgy"
      },
      "source": [
        "# Análise Exploratória de Dados"
      ]
    },
    {
      "cell_type": "code",
      "metadata": {
        "colab": {
          "base_uri": "https://localhost:8080/"
        },
        "id": "JEfbmQMe1BO5",
        "outputId": "540b2eb4-4466-48c7-cab2-19bf965cc8fd"
      },
      "source": [
        "# numero de registros\n",
        "dataset_nomes_brasil.shape"
      ],
      "execution_count": null,
      "outputs": [
        {
          "output_type": "execute_result",
          "data": {
            "text/plain": [
              "(1959116, 7)"
            ]
          },
          "metadata": {
            "tags": []
          },
          "execution_count": 11
        }
      ]
    },
    {
      "cell_type": "code",
      "metadata": {
        "colab": {
          "base_uri": "https://localhost:8080/"
        },
        "id": "ZXQwm6qV-4mh",
        "outputId": "4b3fb23d-4404-4da4-c4b1-7b52542cfa90"
      },
      "source": [
        "# quais colunas possuem valores nulos\n",
        "dataset_nomes_brasil.isna().sum()"
      ],
      "execution_count": null,
      "outputs": [
        {
          "output_type": "execute_result",
          "data": {
            "text/plain": [
              "id_municipio                 0\n",
              "nome                         0\n",
              "qtde_nascimentos_ate_2010    0\n",
              "uf                           0\n",
              "municipio                    0\n",
              "regiao                       0\n",
              "país                         0\n",
              "dtype: int64"
            ]
          },
          "metadata": {
            "tags": []
          },
          "execution_count": 12
        }
      ]
    },
    {
      "cell_type": "code",
      "metadata": {
        "colab": {
          "base_uri": "https://localhost:8080/"
        },
        "id": "_737tZ0ubeby",
        "outputId": "cc912e94-c436-4a8e-e8b2-7c025a8c6068"
      },
      "source": [
        "# quantidade de municipios\n",
        "dataset_nomes_brasil.id_municipio.nunique()"
      ],
      "execution_count": null,
      "outputs": [
        {
          "output_type": "execute_result",
          "data": {
            "text/plain": [
              "5565"
            ]
          },
          "metadata": {
            "tags": []
          },
          "execution_count": 13
        }
      ]
    },
    {
      "cell_type": "code",
      "metadata": {
        "colab": {
          "base_uri": "https://localhost:8080/"
        },
        "id": "RR-MPkwlw4C0",
        "outputId": "0dd23eda-da2e-4574-862d-2f959695927d"
      },
      "source": [
        "dataset_qtd_nome_por_uf = dataset_nomes_brasil.groupby('uf').qtde_nascimentos_ate_2010.sum()\n",
        "dataset_qtd_nome_por_uf"
      ],
      "execution_count": null,
      "outputs": [
        {
          "output_type": "execute_result",
          "data": {
            "text/plain": [
              "uf\n",
              "Acre                     483928\n",
              "Alagoas                 2307440\n",
              "Amapá                    460141\n",
              "Amazonas                2491089\n",
              "Bahia                   9686344\n",
              "Ceará                   6775417\n",
              "Distrito Federal        2275069\n",
              "Espírito Santo          2510096\n",
              "Goiás                   4159040\n",
              "Maranhão                4413070\n",
              "Mato Grosso             1929455\n",
              "Mato Grosso do Sul      1754972\n",
              "Minas Gerais           14343740\n",
              "Paraná                  7813978\n",
              "Paraíba                 2653604\n",
              "Pará                    5423873\n",
              "Pernambuco              6790838\n",
              "Piauí                   2076743\n",
              "Rio Grande do Norte     2239061\n",
              "Rio Grande do Sul       7812708\n",
              "Rio de Janeiro         13862527\n",
              "Rondônia                1030752\n",
              "Roraima                  280385\n",
              "Santa Catarina          4406235\n",
              "Sergipe                 1454757\n",
              "São Paulo              34802277\n",
              "Tocantins                732131\n",
              "Name: qtde_nascimentos_ate_2010, dtype: int64"
            ]
          },
          "metadata": {
            "tags": []
          },
          "execution_count": 14
        }
      ]
    },
    {
      "cell_type": "code",
      "metadata": {
        "colab": {
          "base_uri": "https://localhost:8080/",
          "height": 417
        },
        "id": "bPTtwBjzS-HV",
        "outputId": "8c6db4fd-3ad8-4f0a-acf3-66c3f5c38780"
      },
      "source": [
        "# somando quantidade total de nomes\n",
        "total_qtd_nomes = dataset_nomes_brasil.groupby('nome').qtde_nascimentos_ate_2010.sum()\n",
        "total_qtd_nomes = total_qtd_nomes.sort_values(ascending=False)\n",
        "total_qtd_nomes = total_qtd_nomes.reset_index().reset_index().rename(columns={'index': 'ranking'})\n",
        "total_qtd_nomes"
      ],
      "execution_count": null,
      "outputs": [
        {
          "output_type": "execute_result",
          "data": {
            "text/html": [
              "<div>\n",
              "<style scoped>\n",
              "    .dataframe tbody tr th:only-of-type {\n",
              "        vertical-align: middle;\n",
              "    }\n",
              "\n",
              "    .dataframe tbody tr th {\n",
              "        vertical-align: top;\n",
              "    }\n",
              "\n",
              "    .dataframe thead th {\n",
              "        text-align: right;\n",
              "    }\n",
              "</style>\n",
              "<table border=\"1\" class=\"dataframe\">\n",
              "  <thead>\n",
              "    <tr style=\"text-align: right;\">\n",
              "      <th></th>\n",
              "      <th>ranking</th>\n",
              "      <th>nome</th>\n",
              "      <th>qtde_nascimentos_ate_2010</th>\n",
              "    </tr>\n",
              "  </thead>\n",
              "  <tbody>\n",
              "    <tr>\n",
              "      <th>0</th>\n",
              "      <td>0</td>\n",
              "      <td>Maria</td>\n",
              "      <td>11734129</td>\n",
              "    </tr>\n",
              "    <tr>\n",
              "      <th>1</th>\n",
              "      <td>1</td>\n",
              "      <td>Jose</td>\n",
              "      <td>5754470</td>\n",
              "    </tr>\n",
              "    <tr>\n",
              "      <th>2</th>\n",
              "      <td>2</td>\n",
              "      <td>Ana</td>\n",
              "      <td>3089834</td>\n",
              "    </tr>\n",
              "    <tr>\n",
              "      <th>3</th>\n",
              "      <td>3</td>\n",
              "      <td>Joao</td>\n",
              "      <td>2984088</td>\n",
              "    </tr>\n",
              "    <tr>\n",
              "      <th>4</th>\n",
              "      <td>4</td>\n",
              "      <td>Antonio</td>\n",
              "      <td>2576156</td>\n",
              "    </tr>\n",
              "    <tr>\n",
              "      <th>...</th>\n",
              "      <td>...</td>\n",
              "      <td>...</td>\n",
              "      <td>...</td>\n",
              "    </tr>\n",
              "    <tr>\n",
              "      <th>33071</th>\n",
              "      <td>33071</td>\n",
              "      <td>Fabiio</td>\n",
              "      <td>10</td>\n",
              "    </tr>\n",
              "    <tr>\n",
              "      <th>33072</th>\n",
              "      <td>33072</td>\n",
              "      <td>Junivaldo</td>\n",
              "      <td>10</td>\n",
              "    </tr>\n",
              "    <tr>\n",
              "      <th>33073</th>\n",
              "      <td>33073</td>\n",
              "      <td>Elidian</td>\n",
              "      <td>10</td>\n",
              "    </tr>\n",
              "    <tr>\n",
              "      <th>33074</th>\n",
              "      <td>33074</td>\n",
              "      <td>Devilson</td>\n",
              "      <td>10</td>\n",
              "    </tr>\n",
              "    <tr>\n",
              "      <th>33075</th>\n",
              "      <td>33075</td>\n",
              "      <td>Geroni</td>\n",
              "      <td>10</td>\n",
              "    </tr>\n",
              "  </tbody>\n",
              "</table>\n",
              "<p>33076 rows × 3 columns</p>\n",
              "</div>"
            ],
            "text/plain": [
              "       ranking       nome  qtde_nascimentos_ate_2010\n",
              "0            0      Maria                   11734129\n",
              "1            1       Jose                    5754470\n",
              "2            2        Ana                    3089834\n",
              "3            3       Joao                    2984088\n",
              "4            4    Antonio                    2576156\n",
              "...        ...        ...                        ...\n",
              "33071    33071     Fabiio                         10\n",
              "33072    33072  Junivaldo                         10\n",
              "33073    33073    Elidian                         10\n",
              "33074    33074   Devilson                         10\n",
              "33075    33075     Geroni                         10\n",
              "\n",
              "[33076 rows x 3 columns]"
            ]
          },
          "metadata": {
            "tags": []
          },
          "execution_count": 15
        }
      ]
    },
    {
      "cell_type": "code",
      "metadata": {
        "colab": {
          "base_uri": "https://localhost:8080/"
        },
        "id": "4fyhwmoG0nMn",
        "outputId": "30f74ab8-cac0-4278-b9fa-e6e08f5c0b6e"
      },
      "source": [
        "total_qtd_nomes.nome"
      ],
      "execution_count": null,
      "outputs": [
        {
          "output_type": "execute_result",
          "data": {
            "text/plain": [
              "0            Maria\n",
              "1             Jose\n",
              "2              Ana\n",
              "3             Joao\n",
              "4          Antonio\n",
              "           ...    \n",
              "33071       Fabiio\n",
              "33072    Junivaldo\n",
              "33073      Elidian\n",
              "33074     Devilson\n",
              "33075       Geroni\n",
              "Name: nome, Length: 33076, dtype: object"
            ]
          },
          "metadata": {
            "tags": []
          },
          "execution_count": 107
        }
      ]
    },
    {
      "cell_type": "code",
      "metadata": {
        "colab": {
          "base_uri": "https://localhost:8080/"
        },
        "id": "ie35ALTbOE46",
        "outputId": "52108e32-e5a9-4d46-ed9b-180cb358b955"
      },
      "source": [
        "# quantidade de nomes diferentes\n",
        "total_qtd_nomes.nome.value_counts().sum()"
      ],
      "execution_count": null,
      "outputs": [
        {
          "output_type": "execute_result",
          "data": {
            "text/plain": [
              "33076"
            ]
          },
          "metadata": {
            "tags": []
          },
          "execution_count": 106
        }
      ]
    },
    {
      "cell_type": "code",
      "metadata": {
        "colab": {
          "base_uri": "https://localhost:8080/",
          "height": 357
        },
        "id": "mW9eB4ND4lpq",
        "outputId": "269d697e-f51c-4bc3-ee96-4a1441bfd04e"
      },
      "source": [
        "# top 10 nomes mais comuns\n",
        "total_qtd_nomes[:10]"
      ],
      "execution_count": null,
      "outputs": [
        {
          "output_type": "execute_result",
          "data": {
            "text/html": [
              "<div>\n",
              "<style scoped>\n",
              "    .dataframe tbody tr th:only-of-type {\n",
              "        vertical-align: middle;\n",
              "    }\n",
              "\n",
              "    .dataframe tbody tr th {\n",
              "        vertical-align: top;\n",
              "    }\n",
              "\n",
              "    .dataframe thead th {\n",
              "        text-align: right;\n",
              "    }\n",
              "</style>\n",
              "<table border=\"1\" class=\"dataframe\">\n",
              "  <thead>\n",
              "    <tr style=\"text-align: right;\">\n",
              "      <th></th>\n",
              "      <th>ranking</th>\n",
              "      <th>nome</th>\n",
              "      <th>qtde_nascimentos_ate_2010</th>\n",
              "    </tr>\n",
              "  </thead>\n",
              "  <tbody>\n",
              "    <tr>\n",
              "      <th>0</th>\n",
              "      <td>0</td>\n",
              "      <td>Maria</td>\n",
              "      <td>11734129</td>\n",
              "    </tr>\n",
              "    <tr>\n",
              "      <th>1</th>\n",
              "      <td>1</td>\n",
              "      <td>Jose</td>\n",
              "      <td>5754470</td>\n",
              "    </tr>\n",
              "    <tr>\n",
              "      <th>2</th>\n",
              "      <td>2</td>\n",
              "      <td>Ana</td>\n",
              "      <td>3089834</td>\n",
              "    </tr>\n",
              "    <tr>\n",
              "      <th>3</th>\n",
              "      <td>3</td>\n",
              "      <td>Joao</td>\n",
              "      <td>2984088</td>\n",
              "    </tr>\n",
              "    <tr>\n",
              "      <th>4</th>\n",
              "      <td>4</td>\n",
              "      <td>Antonio</td>\n",
              "      <td>2576156</td>\n",
              "    </tr>\n",
              "    <tr>\n",
              "      <th>5</th>\n",
              "      <td>5</td>\n",
              "      <td>Francisco</td>\n",
              "      <td>1769237</td>\n",
              "    </tr>\n",
              "    <tr>\n",
              "      <th>6</th>\n",
              "      <td>6</td>\n",
              "      <td>Carlos</td>\n",
              "      <td>1488077</td>\n",
              "    </tr>\n",
              "    <tr>\n",
              "      <th>7</th>\n",
              "      <td>7</td>\n",
              "      <td>Paulo</td>\n",
              "      <td>1422346</td>\n",
              "    </tr>\n",
              "    <tr>\n",
              "      <th>8</th>\n",
              "      <td>8</td>\n",
              "      <td>Pedro</td>\n",
              "      <td>1219050</td>\n",
              "    </tr>\n",
              "    <tr>\n",
              "      <th>9</th>\n",
              "      <td>9</td>\n",
              "      <td>Lucas</td>\n",
              "      <td>1125716</td>\n",
              "    </tr>\n",
              "  </tbody>\n",
              "</table>\n",
              "</div>"
            ],
            "text/plain": [
              "   ranking       nome  qtde_nascimentos_ate_2010\n",
              "0        0      Maria                   11734129\n",
              "1        1       Jose                    5754470\n",
              "2        2        Ana                    3089834\n",
              "3        3       Joao                    2984088\n",
              "4        4    Antonio                    2576156\n",
              "5        5  Francisco                    1769237\n",
              "6        6     Carlos                    1488077\n",
              "7        7      Paulo                    1422346\n",
              "8        8      Pedro                    1219050\n",
              "9        9      Lucas                    1125716"
            ]
          },
          "metadata": {
            "tags": []
          },
          "execution_count": 16
        }
      ]
    },
    {
      "cell_type": "code",
      "metadata": {
        "colab": {
          "base_uri": "https://localhost:8080/",
          "height": 357
        },
        "id": "KtpJGCUMNOTO",
        "outputId": "be4ce974-987c-46d1-f16b-79245bcdf57d"
      },
      "source": [
        "# top 10 nomes incomuns\n",
        "total_qtd_nomes[-10:]"
      ],
      "execution_count": null,
      "outputs": [
        {
          "output_type": "execute_result",
          "data": {
            "text/html": [
              "<div>\n",
              "<style scoped>\n",
              "    .dataframe tbody tr th:only-of-type {\n",
              "        vertical-align: middle;\n",
              "    }\n",
              "\n",
              "    .dataframe tbody tr th {\n",
              "        vertical-align: top;\n",
              "    }\n",
              "\n",
              "    .dataframe thead th {\n",
              "        text-align: right;\n",
              "    }\n",
              "</style>\n",
              "<table border=\"1\" class=\"dataframe\">\n",
              "  <thead>\n",
              "    <tr style=\"text-align: right;\">\n",
              "      <th></th>\n",
              "      <th>ranking</th>\n",
              "      <th>nome</th>\n",
              "      <th>qtde_nascimentos_ate_2010</th>\n",
              "    </tr>\n",
              "  </thead>\n",
              "  <tbody>\n",
              "    <tr>\n",
              "      <th>33066</th>\n",
              "      <td>33066</td>\n",
              "      <td>Seiiti</td>\n",
              "      <td>10</td>\n",
              "    </tr>\n",
              "    <tr>\n",
              "      <th>33067</th>\n",
              "      <td>33067</td>\n",
              "      <td>Mallu</td>\n",
              "      <td>10</td>\n",
              "    </tr>\n",
              "    <tr>\n",
              "      <th>33068</th>\n",
              "      <td>33068</td>\n",
              "      <td>Maleide</td>\n",
              "      <td>10</td>\n",
              "    </tr>\n",
              "    <tr>\n",
              "      <th>33069</th>\n",
              "      <td>33069</td>\n",
              "      <td>Devany</td>\n",
              "      <td>10</td>\n",
              "    </tr>\n",
              "    <tr>\n",
              "      <th>33070</th>\n",
              "      <td>33070</td>\n",
              "      <td>Aritusa</td>\n",
              "      <td>10</td>\n",
              "    </tr>\n",
              "    <tr>\n",
              "      <th>33071</th>\n",
              "      <td>33071</td>\n",
              "      <td>Fabiio</td>\n",
              "      <td>10</td>\n",
              "    </tr>\n",
              "    <tr>\n",
              "      <th>33072</th>\n",
              "      <td>33072</td>\n",
              "      <td>Junivaldo</td>\n",
              "      <td>10</td>\n",
              "    </tr>\n",
              "    <tr>\n",
              "      <th>33073</th>\n",
              "      <td>33073</td>\n",
              "      <td>Elidian</td>\n",
              "      <td>10</td>\n",
              "    </tr>\n",
              "    <tr>\n",
              "      <th>33074</th>\n",
              "      <td>33074</td>\n",
              "      <td>Devilson</td>\n",
              "      <td>10</td>\n",
              "    </tr>\n",
              "    <tr>\n",
              "      <th>33075</th>\n",
              "      <td>33075</td>\n",
              "      <td>Geroni</td>\n",
              "      <td>10</td>\n",
              "    </tr>\n",
              "  </tbody>\n",
              "</table>\n",
              "</div>"
            ],
            "text/plain": [
              "       ranking       nome  qtde_nascimentos_ate_2010\n",
              "33066    33066     Seiiti                         10\n",
              "33067    33067      Mallu                         10\n",
              "33068    33068    Maleide                         10\n",
              "33069    33069     Devany                         10\n",
              "33070    33070    Aritusa                         10\n",
              "33071    33071     Fabiio                         10\n",
              "33072    33072  Junivaldo                         10\n",
              "33073    33073    Elidian                         10\n",
              "33074    33074   Devilson                         10\n",
              "33075    33075     Geroni                         10"
            ]
          },
          "metadata": {
            "tags": []
          },
          "execution_count": 17
        }
      ]
    },
    {
      "cell_type": "markdown",
      "metadata": {
        "id": "-EFoj1ZPbcje"
      },
      "source": [
        "# Top 5 nomes mais usados no Brasil por região"
      ]
    },
    {
      "cell_type": "code",
      "metadata": {
        "colab": {
          "base_uri": "https://localhost:8080/"
        },
        "id": "KNu00zhCvJjw",
        "outputId": "a8358e95-e482-438e-809a-f3f07730ea0b"
      },
      "source": [
        "dataset_nomes_brasil['regiao'].unique()"
      ],
      "execution_count": null,
      "outputs": [
        {
          "output_type": "execute_result",
          "data": {
            "text/plain": [
              "array(['Norte', 'Nordeste', 'Sudeste', 'Sul', 'Centro-Oeste'],\n",
              "      dtype=object)"
            ]
          },
          "metadata": {
            "tags": []
          },
          "execution_count": 18
        }
      ]
    },
    {
      "cell_type": "code",
      "metadata": {
        "colab": {
          "base_uri": "https://localhost:8080/",
          "height": 417
        },
        "id": "GWBuQsgGWKPq",
        "outputId": "22bdc55f-d692-4e57-b559-21c777a60f9d"
      },
      "source": [
        "df_norte = dataset_nomes_brasil[dataset_nomes_brasil.regiao == 'Norte']\n",
        "df_norte"
      ],
      "execution_count": null,
      "outputs": [
        {
          "output_type": "execute_result",
          "data": {
            "text/html": [
              "<div>\n",
              "<style scoped>\n",
              "    .dataframe tbody tr th:only-of-type {\n",
              "        vertical-align: middle;\n",
              "    }\n",
              "\n",
              "    .dataframe tbody tr th {\n",
              "        vertical-align: top;\n",
              "    }\n",
              "\n",
              "    .dataframe thead th {\n",
              "        text-align: right;\n",
              "    }\n",
              "</style>\n",
              "<table border=\"1\" class=\"dataframe\">\n",
              "  <thead>\n",
              "    <tr style=\"text-align: right;\">\n",
              "      <th></th>\n",
              "      <th>id_municipio</th>\n",
              "      <th>nome</th>\n",
              "      <th>qtde_nascimentos_ate_2010</th>\n",
              "      <th>uf</th>\n",
              "      <th>municipio</th>\n",
              "      <th>regiao</th>\n",
              "      <th>país</th>\n",
              "    </tr>\n",
              "  </thead>\n",
              "  <tbody>\n",
              "    <tr>\n",
              "      <th>0</th>\n",
              "      <td>1100015</td>\n",
              "      <td>Ademir</td>\n",
              "      <td>46</td>\n",
              "      <td>Rondônia</td>\n",
              "      <td>Alta Floresta D'Oeste</td>\n",
              "      <td>Norte</td>\n",
              "      <td>Brasil</td>\n",
              "    </tr>\n",
              "    <tr>\n",
              "      <th>1</th>\n",
              "      <td>1100015</td>\n",
              "      <td>Adriana</td>\n",
              "      <td>60</td>\n",
              "      <td>Rondônia</td>\n",
              "      <td>Alta Floresta D'Oeste</td>\n",
              "      <td>Norte</td>\n",
              "      <td>Brasil</td>\n",
              "    </tr>\n",
              "    <tr>\n",
              "      <th>2</th>\n",
              "      <td>1100015</td>\n",
              "      <td>Aline</td>\n",
              "      <td>77</td>\n",
              "      <td>Rondônia</td>\n",
              "      <td>Alta Floresta D'Oeste</td>\n",
              "      <td>Norte</td>\n",
              "      <td>Brasil</td>\n",
              "    </tr>\n",
              "    <tr>\n",
              "      <th>3</th>\n",
              "      <td>1100015</td>\n",
              "      <td>Amanda</td>\n",
              "      <td>51</td>\n",
              "      <td>Rondônia</td>\n",
              "      <td>Alta Floresta D'Oeste</td>\n",
              "      <td>Norte</td>\n",
              "      <td>Brasil</td>\n",
              "    </tr>\n",
              "    <tr>\n",
              "      <th>4</th>\n",
              "      <td>1100015</td>\n",
              "      <td>Ana</td>\n",
              "      <td>300</td>\n",
              "      <td>Rondônia</td>\n",
              "      <td>Alta Floresta D'Oeste</td>\n",
              "      <td>Norte</td>\n",
              "      <td>Brasil</td>\n",
              "    </tr>\n",
              "    <tr>\n",
              "      <th>...</th>\n",
              "      <td>...</td>\n",
              "      <td>...</td>\n",
              "      <td>...</td>\n",
              "      <td>...</td>\n",
              "      <td>...</td>\n",
              "      <td>...</td>\n",
              "      <td>...</td>\n",
              "    </tr>\n",
              "    <tr>\n",
              "      <th>1950088</th>\n",
              "      <td>1721000</td>\n",
              "      <td>Romildo</td>\n",
              "      <td>45</td>\n",
              "      <td>Tocantins</td>\n",
              "      <td>Palmas</td>\n",
              "      <td>Norte</td>\n",
              "      <td>Brasil</td>\n",
              "    </tr>\n",
              "    <tr>\n",
              "      <th>1950089</th>\n",
              "      <td>1721000</td>\n",
              "      <td>Sirlene</td>\n",
              "      <td>45</td>\n",
              "      <td>Tocantins</td>\n",
              "      <td>Palmas</td>\n",
              "      <td>Norte</td>\n",
              "      <td>Brasil</td>\n",
              "    </tr>\n",
              "    <tr>\n",
              "      <th>1950090</th>\n",
              "      <td>1721208</td>\n",
              "      <td>Cicero</td>\n",
              "      <td>45</td>\n",
              "      <td>Tocantins</td>\n",
              "      <td>Tocantinópolis</td>\n",
              "      <td>Norte</td>\n",
              "      <td>Brasil</td>\n",
              "    </tr>\n",
              "    <tr>\n",
              "      <th>1950091</th>\n",
              "      <td>1721208</td>\n",
              "      <td>Joana</td>\n",
              "      <td>45</td>\n",
              "      <td>Tocantins</td>\n",
              "      <td>Tocantinópolis</td>\n",
              "      <td>Norte</td>\n",
              "      <td>Brasil</td>\n",
              "    </tr>\n",
              "    <tr>\n",
              "      <th>1950092</th>\n",
              "      <td>1722107</td>\n",
              "      <td>Daniel</td>\n",
              "      <td>45</td>\n",
              "      <td>Tocantins</td>\n",
              "      <td>Xambioá</td>\n",
              "      <td>Norte</td>\n",
              "      <td>Brasil</td>\n",
              "    </tr>\n",
              "  </tbody>\n",
              "</table>\n",
              "<p>181602 rows × 7 columns</p>\n",
              "</div>"
            ],
            "text/plain": [
              "         id_municipio     nome  ...  regiao    país\n",
              "0             1100015   Ademir  ...   Norte  Brasil\n",
              "1             1100015  Adriana  ...   Norte  Brasil\n",
              "2             1100015    Aline  ...   Norte  Brasil\n",
              "3             1100015   Amanda  ...   Norte  Brasil\n",
              "4             1100015      Ana  ...   Norte  Brasil\n",
              "...               ...      ...  ...     ...     ...\n",
              "1950088       1721000  Romildo  ...   Norte  Brasil\n",
              "1950089       1721000  Sirlene  ...   Norte  Brasil\n",
              "1950090       1721208   Cicero  ...   Norte  Brasil\n",
              "1950091       1721208    Joana  ...   Norte  Brasil\n",
              "1950092       1722107   Daniel  ...   Norte  Brasil\n",
              "\n",
              "[181602 rows x 7 columns]"
            ]
          },
          "metadata": {
            "tags": []
          },
          "execution_count": 19
        }
      ]
    },
    {
      "cell_type": "code",
      "metadata": {
        "colab": {
          "base_uri": "https://localhost:8080/",
          "height": 172
        },
        "id": "CxNcGtkFbLHl",
        "outputId": "1e212bf5-0a94-4eb9-ffd1-91ba1ff56b46"
      },
      "source": [
        "# Norte\n",
        "df_norte = dataset_nomes_brasil[dataset_nomes_brasil.regiao == 'Norte']\n",
        "df_norte = df_norte.groupby('nome').qtde_nascimentos_ate_2010.sum()\n",
        "df_norte = df_norte.sort_values(ascending=False)\n",
        "df_norte = df_norte[:3].to_frame()\n",
        "df_norte"
      ],
      "execution_count": null,
      "outputs": [
        {
          "output_type": "execute_result",
          "data": {
            "text/html": [
              "<div>\n",
              "<style scoped>\n",
              "    .dataframe tbody tr th:only-of-type {\n",
              "        vertical-align: middle;\n",
              "    }\n",
              "\n",
              "    .dataframe tbody tr th {\n",
              "        vertical-align: top;\n",
              "    }\n",
              "\n",
              "    .dataframe thead th {\n",
              "        text-align: right;\n",
              "    }\n",
              "</style>\n",
              "<table border=\"1\" class=\"dataframe\">\n",
              "  <thead>\n",
              "    <tr style=\"text-align: right;\">\n",
              "      <th></th>\n",
              "      <th>qtde_nascimentos_ate_2010</th>\n",
              "    </tr>\n",
              "    <tr>\n",
              "      <th>nome</th>\n",
              "      <th></th>\n",
              "    </tr>\n",
              "  </thead>\n",
              "  <tbody>\n",
              "    <tr>\n",
              "      <th>Maria</th>\n",
              "      <td>924862</td>\n",
              "    </tr>\n",
              "    <tr>\n",
              "      <th>Jose</th>\n",
              "      <td>381889</td>\n",
              "    </tr>\n",
              "    <tr>\n",
              "      <th>Antonio</th>\n",
              "      <td>236894</td>\n",
              "    </tr>\n",
              "  </tbody>\n",
              "</table>\n",
              "</div>"
            ],
            "text/plain": [
              "         qtde_nascimentos_ate_2010\n",
              "nome                              \n",
              "Maria                       924862\n",
              "Jose                        381889\n",
              "Antonio                     236894"
            ]
          },
          "metadata": {
            "tags": []
          },
          "execution_count": 20
        }
      ]
    },
    {
      "cell_type": "code",
      "metadata": {
        "colab": {
          "base_uri": "https://localhost:8080/",
          "height": 172
        },
        "id": "-rGiH8zrvfOL",
        "outputId": "99d64e72-aedf-4558-8d70-75867da00aae"
      },
      "source": [
        "# Nordeste\n",
        "df_nordeste = dataset_nomes_brasil[dataset_nomes_brasil.regiao == 'Nordeste']\n",
        "df_nordeste = df_nordeste.groupby('nome').qtde_nascimentos_ate_2010.sum()\n",
        "df_nordeste = df_nordeste.sort_values(ascending=False)\n",
        "df_nordeste = df_nordeste[:3].to_frame()\n",
        "df_nordeste"
      ],
      "execution_count": null,
      "outputs": [
        {
          "output_type": "execute_result",
          "data": {
            "text/html": [
              "<div>\n",
              "<style scoped>\n",
              "    .dataframe tbody tr th:only-of-type {\n",
              "        vertical-align: middle;\n",
              "    }\n",
              "\n",
              "    .dataframe tbody tr th {\n",
              "        vertical-align: top;\n",
              "    }\n",
              "\n",
              "    .dataframe thead th {\n",
              "        text-align: right;\n",
              "    }\n",
              "</style>\n",
              "<table border=\"1\" class=\"dataframe\">\n",
              "  <thead>\n",
              "    <tr style=\"text-align: right;\">\n",
              "      <th></th>\n",
              "      <th>qtde_nascimentos_ate_2010</th>\n",
              "    </tr>\n",
              "    <tr>\n",
              "      <th>nome</th>\n",
              "      <th></th>\n",
              "    </tr>\n",
              "  </thead>\n",
              "  <tbody>\n",
              "    <tr>\n",
              "      <th>Maria</th>\n",
              "      <td>4784557</td>\n",
              "    </tr>\n",
              "    <tr>\n",
              "      <th>Jose</th>\n",
              "      <td>2450379</td>\n",
              "    </tr>\n",
              "    <tr>\n",
              "      <th>Francisco</th>\n",
              "      <td>1097383</td>\n",
              "    </tr>\n",
              "  </tbody>\n",
              "</table>\n",
              "</div>"
            ],
            "text/plain": [
              "           qtde_nascimentos_ate_2010\n",
              "nome                                \n",
              "Maria                        4784557\n",
              "Jose                         2450379\n",
              "Francisco                    1097383"
            ]
          },
          "metadata": {
            "tags": []
          },
          "execution_count": 21
        }
      ]
    },
    {
      "cell_type": "code",
      "metadata": {
        "colab": {
          "base_uri": "https://localhost:8080/",
          "height": 172
        },
        "id": "Y7GZKOw0cbGt",
        "outputId": "bef474a4-eb30-448c-8aa2-983def7d11d1"
      },
      "source": [
        "# Sudeste\n",
        "df_sudeste = dataset_nomes_brasil[dataset_nomes_brasil.regiao == 'Sudeste']\n",
        "df_sudeste = df_sudeste.groupby('nome').qtde_nascimentos_ate_2010.sum()\n",
        "df_sudeste = df_sudeste.sort_values(ascending=False)\n",
        "df_sudeste = df_sudeste[:3].to_frame()\n",
        "df_sudeste"
      ],
      "execution_count": null,
      "outputs": [
        {
          "output_type": "execute_result",
          "data": {
            "text/html": [
              "<div>\n",
              "<style scoped>\n",
              "    .dataframe tbody tr th:only-of-type {\n",
              "        vertical-align: middle;\n",
              "    }\n",
              "\n",
              "    .dataframe tbody tr th {\n",
              "        vertical-align: top;\n",
              "    }\n",
              "\n",
              "    .dataframe thead th {\n",
              "        text-align: right;\n",
              "    }\n",
              "</style>\n",
              "<table border=\"1\" class=\"dataframe\">\n",
              "  <thead>\n",
              "    <tr style=\"text-align: right;\">\n",
              "      <th></th>\n",
              "      <th>qtde_nascimentos_ate_2010</th>\n",
              "    </tr>\n",
              "    <tr>\n",
              "      <th>nome</th>\n",
              "      <th></th>\n",
              "    </tr>\n",
              "  </thead>\n",
              "  <tbody>\n",
              "    <tr>\n",
              "      <th>Maria</th>\n",
              "      <td>4371984</td>\n",
              "    </tr>\n",
              "    <tr>\n",
              "      <th>Jose</th>\n",
              "      <td>2139644</td>\n",
              "    </tr>\n",
              "    <tr>\n",
              "      <th>Ana</th>\n",
              "      <td>1371222</td>\n",
              "    </tr>\n",
              "  </tbody>\n",
              "</table>\n",
              "</div>"
            ],
            "text/plain": [
              "       qtde_nascimentos_ate_2010\n",
              "nome                            \n",
              "Maria                    4371984\n",
              "Jose                     2139644\n",
              "Ana                      1371222"
            ]
          },
          "metadata": {
            "tags": []
          },
          "execution_count": 22
        }
      ]
    },
    {
      "cell_type": "code",
      "metadata": {
        "colab": {
          "base_uri": "https://localhost:8080/",
          "height": 172
        },
        "id": "-sRvNCdavWqy",
        "outputId": "52e7c6a3-0157-4d62-c021-4d2afb39db36"
      },
      "source": [
        "# Sul\n",
        "df_Sul = dataset_nomes_brasil[dataset_nomes_brasil.regiao == 'Sul']\n",
        "df_Sul = df_Sul.groupby('nome').qtde_nascimentos_ate_2010.sum()\n",
        "df_Sul = df_Sul.sort_values(ascending=False)\n",
        "df_Sul = df_Sul[:3].to_frame()\n",
        "df_Sul"
      ],
      "execution_count": null,
      "outputs": [
        {
          "output_type": "execute_result",
          "data": {
            "text/html": [
              "<div>\n",
              "<style scoped>\n",
              "    .dataframe tbody tr th:only-of-type {\n",
              "        vertical-align: middle;\n",
              "    }\n",
              "\n",
              "    .dataframe tbody tr th {\n",
              "        vertical-align: top;\n",
              "    }\n",
              "\n",
              "    .dataframe thead th {\n",
              "        text-align: right;\n",
              "    }\n",
              "</style>\n",
              "<table border=\"1\" class=\"dataframe\">\n",
              "  <thead>\n",
              "    <tr style=\"text-align: right;\">\n",
              "      <th></th>\n",
              "      <th>qtde_nascimentos_ate_2010</th>\n",
              "    </tr>\n",
              "    <tr>\n",
              "      <th>nome</th>\n",
              "      <th></th>\n",
              "    </tr>\n",
              "  </thead>\n",
              "  <tbody>\n",
              "    <tr>\n",
              "      <th>Maria</th>\n",
              "      <td>964971</td>\n",
              "    </tr>\n",
              "    <tr>\n",
              "      <th>Jose</th>\n",
              "      <td>464675</td>\n",
              "    </tr>\n",
              "    <tr>\n",
              "      <th>Joao</th>\n",
              "      <td>453133</td>\n",
              "    </tr>\n",
              "  </tbody>\n",
              "</table>\n",
              "</div>"
            ],
            "text/plain": [
              "       qtde_nascimentos_ate_2010\n",
              "nome                            \n",
              "Maria                     964971\n",
              "Jose                      464675\n",
              "Joao                      453133"
            ]
          },
          "metadata": {
            "tags": []
          },
          "execution_count": 23
        }
      ]
    },
    {
      "cell_type": "code",
      "metadata": {
        "colab": {
          "base_uri": "https://localhost:8080/",
          "height": 172
        },
        "id": "qoyuYoBkwQXK",
        "outputId": "d9b086ca-e21d-4972-acf3-d0f8714e85b4"
      },
      "source": [
        "# Centro-Oeste\n",
        "df_Centro_Oeste = dataset_nomes_brasil[dataset_nomes_brasil.regiao == 'Centro-Oeste']\n",
        "df_Centro_Oeste = df_Centro_Oeste.groupby('nome').qtde_nascimentos_ate_2010.sum()\n",
        "df_Centro_Oeste = df_Centro_Oeste.sort_values(ascending=False)\n",
        "df_Centro_Oeste = df_Centro_Oeste[:3].to_frame()\n",
        "df_Centro_Oeste"
      ],
      "execution_count": null,
      "outputs": [
        {
          "output_type": "execute_result",
          "data": {
            "text/html": [
              "<div>\n",
              "<style scoped>\n",
              "    .dataframe tbody tr th:only-of-type {\n",
              "        vertical-align: middle;\n",
              "    }\n",
              "\n",
              "    .dataframe tbody tr th {\n",
              "        vertical-align: top;\n",
              "    }\n",
              "\n",
              "    .dataframe thead th {\n",
              "        text-align: right;\n",
              "    }\n",
              "</style>\n",
              "<table border=\"1\" class=\"dataframe\">\n",
              "  <thead>\n",
              "    <tr style=\"text-align: right;\">\n",
              "      <th></th>\n",
              "      <th>qtde_nascimentos_ate_2010</th>\n",
              "    </tr>\n",
              "    <tr>\n",
              "      <th>nome</th>\n",
              "      <th></th>\n",
              "    </tr>\n",
              "  </thead>\n",
              "  <tbody>\n",
              "    <tr>\n",
              "      <th>Maria</th>\n",
              "      <td>687755</td>\n",
              "    </tr>\n",
              "    <tr>\n",
              "      <th>Jose</th>\n",
              "      <td>317883</td>\n",
              "    </tr>\n",
              "    <tr>\n",
              "      <th>Joao</th>\n",
              "      <td>241272</td>\n",
              "    </tr>\n",
              "  </tbody>\n",
              "</table>\n",
              "</div>"
            ],
            "text/plain": [
              "       qtde_nascimentos_ate_2010\n",
              "nome                            \n",
              "Maria                     687755\n",
              "Jose                      317883\n",
              "Joao                      241272"
            ]
          },
          "metadata": {
            "tags": []
          },
          "execution_count": 24
        }
      ]
    },
    {
      "cell_type": "code",
      "metadata": {
        "colab": {
          "base_uri": "https://localhost:8080/"
        },
        "id": "8TrtdnPbxdQq",
        "outputId": "01fc6371-3c91-42a3-b450-111d8b3fead3"
      },
      "source": [
        "regioes = list(dataset_nomes_brasil['regiao'].unique())\n",
        "regioes"
      ],
      "execution_count": null,
      "outputs": [
        {
          "output_type": "execute_result",
          "data": {
            "text/plain": [
              "['Norte', 'Nordeste', 'Sudeste', 'Sul', 'Centro-Oeste']"
            ]
          },
          "metadata": {
            "tags": []
          },
          "execution_count": 25
        }
      ]
    },
    {
      "cell_type": "code",
      "metadata": {
        "colab": {
          "base_uri": "https://localhost:8080/",
          "height": 172
        },
        "id": "JswsDN82zc9x",
        "outputId": "0d82ad4e-7ef7-435f-b9c6-e937b91c5d6d"
      },
      "source": [
        "df_Centro_Oeste"
      ],
      "execution_count": null,
      "outputs": [
        {
          "output_type": "execute_result",
          "data": {
            "text/html": [
              "<div>\n",
              "<style scoped>\n",
              "    .dataframe tbody tr th:only-of-type {\n",
              "        vertical-align: middle;\n",
              "    }\n",
              "\n",
              "    .dataframe tbody tr th {\n",
              "        vertical-align: top;\n",
              "    }\n",
              "\n",
              "    .dataframe thead th {\n",
              "        text-align: right;\n",
              "    }\n",
              "</style>\n",
              "<table border=\"1\" class=\"dataframe\">\n",
              "  <thead>\n",
              "    <tr style=\"text-align: right;\">\n",
              "      <th></th>\n",
              "      <th>qtde_nascimentos_ate_2010</th>\n",
              "    </tr>\n",
              "    <tr>\n",
              "      <th>nome</th>\n",
              "      <th></th>\n",
              "    </tr>\n",
              "  </thead>\n",
              "  <tbody>\n",
              "    <tr>\n",
              "      <th>Maria</th>\n",
              "      <td>687755</td>\n",
              "    </tr>\n",
              "    <tr>\n",
              "      <th>Jose</th>\n",
              "      <td>317883</td>\n",
              "    </tr>\n",
              "    <tr>\n",
              "      <th>Joao</th>\n",
              "      <td>241272</td>\n",
              "    </tr>\n",
              "  </tbody>\n",
              "</table>\n",
              "</div>"
            ],
            "text/plain": [
              "       qtde_nascimentos_ate_2010\n",
              "nome                            \n",
              "Maria                     687755\n",
              "Jose                      317883\n",
              "Joao                      241272"
            ]
          },
          "metadata": {
            "tags": []
          },
          "execution_count": 26
        }
      ]
    },
    {
      "cell_type": "code",
      "metadata": {
        "colab": {
          "base_uri": "https://localhost:8080/"
        },
        "id": "HImyeg-Xylyy",
        "outputId": "413b8121-6322-43d1-b76c-ba061a63abc5"
      },
      "source": [
        "df_Centro_Oeste['qtde_nascimentos_ate_2010'].values"
      ],
      "execution_count": null,
      "outputs": [
        {
          "output_type": "execute_result",
          "data": {
            "text/plain": [
              "array([687755, 317883, 241272])"
            ]
          },
          "metadata": {
            "tags": []
          },
          "execution_count": 27
        }
      ]
    },
    {
      "cell_type": "code",
      "metadata": {
        "colab": {
          "base_uri": "https://localhost:8080/"
        },
        "id": "VfyfswV_zbV6",
        "outputId": "654d5eb8-535b-4282-ce89-7bd51efaf82f"
      },
      "source": [
        "df_Centro_Oeste.index"
      ],
      "execution_count": null,
      "outputs": [
        {
          "output_type": "execute_result",
          "data": {
            "text/plain": [
              "Index(['Maria', 'Jose', 'Joao'], dtype='object', name='nome')"
            ]
          },
          "metadata": {
            "tags": []
          },
          "execution_count": 28
        }
      ]
    },
    {
      "cell_type": "markdown",
      "metadata": {
        "id": "6b-GDi1JwSx7"
      },
      "source": [
        "# Contabilizando a quantidade de registros por Estado e Região"
      ]
    },
    {
      "cell_type": "code",
      "metadata": {
        "id": "UCEKTqW77HeS",
        "colab": {
          "base_uri": "https://localhost:8080/"
        },
        "outputId": "c1d8d4b1-abda-442d-ae57-a0c7373dc1fb"
      },
      "source": [
        "# Contabilizando a quantidade de registros por Região\n",
        "qtd_nome_regiao = dataset_nomes_brasil.groupby('regiao').qtde_nascimentos_ate_2010.sum()\n",
        "qtd_nome_regiao = qtd_nome_regiao.sort_values(ascending=False)\n",
        "qtd_nome_regiao"
      ],
      "execution_count": null,
      "outputs": [
        {
          "output_type": "execute_result",
          "data": {
            "text/plain": [
              "regiao\n",
              "Sudeste         65518640\n",
              "Nordeste        38397274\n",
              "Sul             20032921\n",
              "Norte           10902299\n",
              "Centro-Oeste    10118536\n",
              "Name: qtde_nascimentos_ate_2010, dtype: int64"
            ]
          },
          "metadata": {
            "tags": []
          },
          "execution_count": 29
        }
      ]
    },
    {
      "cell_type": "code",
      "metadata": {
        "colab": {
          "base_uri": "https://localhost:8080/",
          "height": 627
        },
        "id": "4jEWiybXpK20",
        "outputId": "61acd85f-77d7-4c5f-b12d-a677f8dd04bd"
      },
      "source": [
        "# Grafico Contabilizando a quantidade de registros por Região\n",
        "sns.set()\n",
        "plt.figure(figsize=[15, 10])\n",
        "plt.title('Quantidade de registros por Região')\n",
        "\n",
        "plt.bar(qtd_nome_regiao.index, qtd_nome_regiao)\n",
        "\n",
        "for index,data in enumerate(qtd_nome_regiao):\n",
        "    plt.text(x=index , y=data+1, s=f\"{data}\", fontdict=dict(fontsize=14), ha='center')\n",
        "\n",
        "plt.xlabel('Região')\n",
        "plt.ylabel('Quantidade')\n",
        "plt.show()"
      ],
      "execution_count": null,
      "outputs": [
        {
          "output_type": "display_data",
          "data": {
            "image/png": "[encoded data removed]",
            "text/plain": [
              "<Figure size 1080x720 with 1 Axes>"
            ]
          },
          "metadata": {
            "tags": []
          }
        }
      ]
    },
    {
      "cell_type": "code",
      "metadata": {
        "colab": {
          "base_uri": "https://localhost:8080/"
        },
        "id": "Qye0N4XQqqic",
        "outputId": "61aa17b9-9b78-4dbd-969b-80e426f06056"
      },
      "source": [
        "# Contabilizando a quantidade de registros por Estado\n",
        "qtd_nome_uf = dataset_nomes_brasil.groupby('uf').qtde_nascimentos_ate_2010.sum()\n",
        "qtd_nome_uf = qtd_nome_uf.sort_values(ascending=False)[:5]\n",
        "qtd_nome_uf"
      ],
      "execution_count": null,
      "outputs": [
        {
          "output_type": "execute_result",
          "data": {
            "text/plain": [
              "uf\n",
              "São Paulo         34802277\n",
              "Minas Gerais      14343740\n",
              "Rio de Janeiro    13862527\n",
              "Bahia              9686344\n",
              "Paraná             7813978\n",
              "Name: qtde_nascimentos_ate_2010, dtype: int64"
            ]
          },
          "metadata": {
            "tags": []
          },
          "execution_count": 31
        }
      ]
    },
    {
      "cell_type": "code",
      "metadata": {
        "colab": {
          "base_uri": "https://localhost:8080/",
          "height": 627
        },
        "id": "flt4dN0GrAJE",
        "outputId": "5b6247a7-a42a-412a-c32d-1871cbe6be6b"
      },
      "source": [
        "# Grafico Contabilizando a quantidade de registros por Estado\n",
        "sns.set()\n",
        "plt.figure(figsize=[15, 10])\n",
        "plt.title('Quantidade de registros por Estado')\n",
        "\n",
        "plt.bar(qtd_nome_uf.index, qtd_nome_uf)\n",
        "\n",
        "for index,data in enumerate(qtd_nome_uf):\n",
        "    plt.text(x=index , y=data+1, s=f\"{data}\", fontdict=dict(fontsize=14), ha='center')\n",
        "\n",
        "plt.xlabel('Estado')\n",
        "plt.ylabel('Quantidade')\n",
        "\n",
        "plt.show()"
      ],
      "execution_count": null,
      "outputs": [
        {
          "output_type": "display_data",
          "data": {
            "image/png": "[encoded data removed]",
            "text/plain": [
              "<Figure size 1080x720 with 1 Axes>"
            ]
          },
          "metadata": {
            "tags": []
          }
        }
      ]
    },
    {
      "cell_type": "markdown",
      "metadata": {
        "id": "IAMrOMeYvJ0F"
      },
      "source": [
        "# Pessoas com o maior nome"
      ]
    },
    {
      "cell_type": "code",
      "metadata": {
        "colab": {
          "base_uri": "https://localhost:8080/",
          "height": 1000
        },
        "id": "yXJqKGLlvi8w",
        "outputId": "5aa6b904-d1b4-4170-f321-fe6275546bc8"
      },
      "source": [
        "dataset_nomes_brasil[dataset_nomes_brasil['nome'].str.len() >= 13]"
      ],
      "execution_count": null,
      "outputs": [
        {
          "output_type": "execute_result",
          "data": {
            "text/html": [
              "<div>\n",
              "<style scoped>\n",
              "    .dataframe tbody tr th:only-of-type {\n",
              "        vertical-align: middle;\n",
              "    }\n",
              "\n",
              "    .dataframe tbody tr th {\n",
              "        vertical-align: top;\n",
              "    }\n",
              "\n",
              "    .dataframe thead th {\n",
              "        text-align: right;\n",
              "    }\n",
              "</style>\n",
              "<table border=\"1\" class=\"dataframe\">\n",
              "  <thead>\n",
              "    <tr style=\"text-align: right;\">\n",
              "      <th></th>\n",
              "      <th>id_municipio</th>\n",
              "      <th>nome</th>\n",
              "      <th>qtde_nascimentos_ate_2010</th>\n",
              "      <th>uf</th>\n",
              "      <th>municipio</th>\n",
              "      <th>regiao</th>\n",
              "      <th>país</th>\n",
              "    </tr>\n",
              "  </thead>\n",
              "  <tbody>\n",
              "    <tr>\n",
              "      <th>143714</th>\n",
              "      <td>2927408</td>\n",
              "      <td>Melquisedeque</td>\n",
              "      <td>62</td>\n",
              "      <td>Bahia</td>\n",
              "      <td>Salvador</td>\n",
              "      <td>Nordeste</td>\n",
              "      <td>Brasil</td>\n",
              "    </tr>\n",
              "    <tr>\n",
              "      <th>480246</th>\n",
              "      <td>2408102</td>\n",
              "      <td>Melquesedeque</td>\n",
              "      <td>10</td>\n",
              "      <td>Rio Grande do Norte</td>\n",
              "      <td>Natal</td>\n",
              "      <td>Nordeste</td>\n",
              "      <td>Brasil</td>\n",
              "    </tr>\n",
              "    <tr>\n",
              "      <th>488612</th>\n",
              "      <td>2607901</td>\n",
              "      <td>Melquizedeque</td>\n",
              "      <td>10</td>\n",
              "      <td>Pernambuco</td>\n",
              "      <td>Jaboatão dos Guararapes</td>\n",
              "      <td>Nordeste</td>\n",
              "      <td>Brasil</td>\n",
              "    </tr>\n",
              "    <tr>\n",
              "      <th>489932</th>\n",
              "      <td>2610707</td>\n",
              "      <td>Melquezedeque</td>\n",
              "      <td>10</td>\n",
              "      <td>Pernambuco</td>\n",
              "      <td>Paulista</td>\n",
              "      <td>Nordeste</td>\n",
              "      <td>Brasil</td>\n",
              "    </tr>\n",
              "    <tr>\n",
              "      <th>503072</th>\n",
              "      <td>2910800</td>\n",
              "      <td>Melquezedeque</td>\n",
              "      <td>10</td>\n",
              "      <td>Bahia</td>\n",
              "      <td>Feira de Santana</td>\n",
              "      <td>Nordeste</td>\n",
              "      <td>Brasil</td>\n",
              "    </tr>\n",
              "    <tr>\n",
              "      <th>540261</th>\n",
              "      <td>3301702</td>\n",
              "      <td>Melquisedeque</td>\n",
              "      <td>10</td>\n",
              "      <td>Rio de Janeiro</td>\n",
              "      <td>Duque de Caxias</td>\n",
              "      <td>Sudeste</td>\n",
              "      <td>Brasil</td>\n",
              "    </tr>\n",
              "    <tr>\n",
              "      <th>564218</th>\n",
              "      <td>3550308</td>\n",
              "      <td>Francisquinha</td>\n",
              "      <td>10</td>\n",
              "      <td>São Paulo</td>\n",
              "      <td>São Paulo</td>\n",
              "      <td>Sudeste</td>\n",
              "      <td>Brasil</td>\n",
              "    </tr>\n",
              "    <tr>\n",
              "      <th>606845</th>\n",
              "      <td>5208707</td>\n",
              "      <td>Melquisedeque</td>\n",
              "      <td>10</td>\n",
              "      <td>Goiás</td>\n",
              "      <td>Goiânia</td>\n",
              "      <td>Centro-Oeste</td>\n",
              "      <td>Brasil</td>\n",
              "    </tr>\n",
              "    <tr>\n",
              "      <th>616817</th>\n",
              "      <td>1500800</td>\n",
              "      <td>Melquisedeque</td>\n",
              "      <td>11</td>\n",
              "      <td>Pará</td>\n",
              "      <td>Ananindeua</td>\n",
              "      <td>Norte</td>\n",
              "      <td>Brasil</td>\n",
              "    </tr>\n",
              "    <tr>\n",
              "      <th>632999</th>\n",
              "      <td>2211001</td>\n",
              "      <td>Melquesedeque</td>\n",
              "      <td>11</td>\n",
              "      <td>Piauí</td>\n",
              "      <td>Teresina</td>\n",
              "      <td>Nordeste</td>\n",
              "      <td>Brasil</td>\n",
              "    </tr>\n",
              "    <tr>\n",
              "      <th>633000</th>\n",
              "      <td>2211001</td>\n",
              "      <td>Melquisedeque</td>\n",
              "      <td>11</td>\n",
              "      <td>Piauí</td>\n",
              "      <td>Teresina</td>\n",
              "      <td>Nordeste</td>\n",
              "      <td>Brasil</td>\n",
              "    </tr>\n",
              "    <tr>\n",
              "      <th>634983</th>\n",
              "      <td>2304400</td>\n",
              "      <td>Melquesedeque</td>\n",
              "      <td>11</td>\n",
              "      <td>Ceará</td>\n",
              "      <td>Fortaleza</td>\n",
              "      <td>Nordeste</td>\n",
              "      <td>Brasil</td>\n",
              "    </tr>\n",
              "    <tr>\n",
              "      <th>645005</th>\n",
              "      <td>2602902</td>\n",
              "      <td>Melquisedeque</td>\n",
              "      <td>11</td>\n",
              "      <td>Pernambuco</td>\n",
              "      <td>Cabo de Santo Agostinho</td>\n",
              "      <td>Nordeste</td>\n",
              "      <td>Brasil</td>\n",
              "    </tr>\n",
              "    <tr>\n",
              "      <th>646937</th>\n",
              "      <td>2607901</td>\n",
              "      <td>Melquezedeque</td>\n",
              "      <td>11</td>\n",
              "      <td>Pernambuco</td>\n",
              "      <td>Jaboatão dos Guararapes</td>\n",
              "      <td>Nordeste</td>\n",
              "      <td>Brasil</td>\n",
              "    </tr>\n",
              "    <tr>\n",
              "      <th>646938</th>\n",
              "      <td>2607901</td>\n",
              "      <td>Melquisedeque</td>\n",
              "      <td>11</td>\n",
              "      <td>Pernambuco</td>\n",
              "      <td>Jaboatão dos Guararapes</td>\n",
              "      <td>Nordeste</td>\n",
              "      <td>Brasil</td>\n",
              "    </tr>\n",
              "    <tr>\n",
              "      <th>651636</th>\n",
              "      <td>2704302</td>\n",
              "      <td>Melquesedeque</td>\n",
              "      <td>11</td>\n",
              "      <td>Alagoas</td>\n",
              "      <td>Maceió</td>\n",
              "      <td>Nordeste</td>\n",
              "      <td>Brasil</td>\n",
              "    </tr>\n",
              "    <tr>\n",
              "      <th>651637</th>\n",
              "      <td>2704302</td>\n",
              "      <td>Melquezedeque</td>\n",
              "      <td>11</td>\n",
              "      <td>Alagoas</td>\n",
              "      <td>Maceió</td>\n",
              "      <td>Nordeste</td>\n",
              "      <td>Brasil</td>\n",
              "    </tr>\n",
              "    <tr>\n",
              "      <th>693181</th>\n",
              "      <td>3304557</td>\n",
              "      <td>Antoniocarlos</td>\n",
              "      <td>11</td>\n",
              "      <td>Rio de Janeiro</td>\n",
              "      <td>Rio de Janeiro</td>\n",
              "      <td>Sudeste</td>\n",
              "      <td>Brasil</td>\n",
              "    </tr>\n",
              "    <tr>\n",
              "      <th>711881</th>\n",
              "      <td>3550308</td>\n",
              "      <td>Mariaoliveira</td>\n",
              "      <td>11</td>\n",
              "      <td>São Paulo</td>\n",
              "      <td>São Paulo</td>\n",
              "      <td>Sudeste</td>\n",
              "      <td>Brasil</td>\n",
              "    </tr>\n",
              "    <tr>\n",
              "      <th>801862</th>\n",
              "      <td>3106200</td>\n",
              "      <td>Melquisedeque</td>\n",
              "      <td>12</td>\n",
              "      <td>Minas Gerais</td>\n",
              "      <td>Belo Horizonte</td>\n",
              "      <td>Sudeste</td>\n",
              "      <td>Brasil</td>\n",
              "    </tr>\n",
              "    <tr>\n",
              "      <th>836904</th>\n",
              "      <td>3550308</td>\n",
              "      <td>Melquizedeque</td>\n",
              "      <td>12</td>\n",
              "      <td>São Paulo</td>\n",
              "      <td>São Paulo</td>\n",
              "      <td>Sudeste</td>\n",
              "      <td>Brasil</td>\n",
              "    </tr>\n",
              "    <tr>\n",
              "      <th>872814</th>\n",
              "      <td>1302603</td>\n",
              "      <td>Melquizedeque</td>\n",
              "      <td>13</td>\n",
              "      <td>Amazonas</td>\n",
              "      <td>Manaus</td>\n",
              "      <td>Norte</td>\n",
              "      <td>Brasil</td>\n",
              "    </tr>\n",
              "    <tr>\n",
              "      <th>890922</th>\n",
              "      <td>2408102</td>\n",
              "      <td>Melquisedeque</td>\n",
              "      <td>13</td>\n",
              "      <td>Rio Grande do Norte</td>\n",
              "      <td>Natal</td>\n",
              "      <td>Nordeste</td>\n",
              "      <td>Brasil</td>\n",
              "    </tr>\n",
              "    <tr>\n",
              "      <th>929816</th>\n",
              "      <td>3303500</td>\n",
              "      <td>Melquisedeque</td>\n",
              "      <td>13</td>\n",
              "      <td>Rio de Janeiro</td>\n",
              "      <td>Nova Iguaçu</td>\n",
              "      <td>Sudeste</td>\n",
              "      <td>Brasil</td>\n",
              "    </tr>\n",
              "    <tr>\n",
              "      <th>944278</th>\n",
              "      <td>3550308</td>\n",
              "      <td>Gabrielsantos</td>\n",
              "      <td>13</td>\n",
              "      <td>São Paulo</td>\n",
              "      <td>São Paulo</td>\n",
              "      <td>Sudeste</td>\n",
              "      <td>Brasil</td>\n",
              "    </tr>\n",
              "    <tr>\n",
              "      <th>973409</th>\n",
              "      <td>5300108</td>\n",
              "      <td>Melquesedeque</td>\n",
              "      <td>13</td>\n",
              "      <td>Distrito Federal</td>\n",
              "      <td>Brasília</td>\n",
              "      <td>Centro-Oeste</td>\n",
              "      <td>Brasil</td>\n",
              "    </tr>\n",
              "    <tr>\n",
              "      <th>975941</th>\n",
              "      <td>1302603</td>\n",
              "      <td>Melquezedeque</td>\n",
              "      <td>14</td>\n",
              "      <td>Amazonas</td>\n",
              "      <td>Manaus</td>\n",
              "      <td>Norte</td>\n",
              "      <td>Brasil</td>\n",
              "    </tr>\n",
              "    <tr>\n",
              "      <th>977691</th>\n",
              "      <td>1501402</td>\n",
              "      <td>Melquesedeque</td>\n",
              "      <td>14</td>\n",
              "      <td>Pará</td>\n",
              "      <td>Belém</td>\n",
              "      <td>Norte</td>\n",
              "      <td>Brasil</td>\n",
              "    </tr>\n",
              "    <tr>\n",
              "      <th>988451</th>\n",
              "      <td>2304400</td>\n",
              "      <td>Francisquinha</td>\n",
              "      <td>14</td>\n",
              "      <td>Ceará</td>\n",
              "      <td>Fortaleza</td>\n",
              "      <td>Nordeste</td>\n",
              "      <td>Brasil</td>\n",
              "    </tr>\n",
              "    <tr>\n",
              "      <th>993237</th>\n",
              "      <td>2507507</td>\n",
              "      <td>Melquisedeque</td>\n",
              "      <td>14</td>\n",
              "      <td>Paraíba</td>\n",
              "      <td>João Pessoa</td>\n",
              "      <td>Nordeste</td>\n",
              "      <td>Brasil</td>\n",
              "    </tr>\n",
              "    <tr>\n",
              "      <th>1038036</th>\n",
              "      <td>3550308</td>\n",
              "      <td>Antoniocarlos</td>\n",
              "      <td>14</td>\n",
              "      <td>São Paulo</td>\n",
              "      <td>São Paulo</td>\n",
              "      <td>Sudeste</td>\n",
              "      <td>Brasil</td>\n",
              "    </tr>\n",
              "    <tr>\n",
              "      <th>1038609</th>\n",
              "      <td>3550308</td>\n",
              "      <td>Melquezedeque</td>\n",
              "      <td>14</td>\n",
              "      <td>São Paulo</td>\n",
              "      <td>São Paulo</td>\n",
              "      <td>Sudeste</td>\n",
              "      <td>Brasil</td>\n",
              "    </tr>\n",
              "    <tr>\n",
              "      <th>1063666</th>\n",
              "      <td>5300108</td>\n",
              "      <td>Melquizedeque</td>\n",
              "      <td>14</td>\n",
              "      <td>Distrito Federal</td>\n",
              "      <td>Brasília</td>\n",
              "      <td>Centro-Oeste</td>\n",
              "      <td>Brasil</td>\n",
              "    </tr>\n",
              "    <tr>\n",
              "      <th>1084872</th>\n",
              "      <td>2611606</td>\n",
              "      <td>Melquizedeque</td>\n",
              "      <td>15</td>\n",
              "      <td>Pernambuco</td>\n",
              "      <td>Recife</td>\n",
              "      <td>Nordeste</td>\n",
              "      <td>Brasil</td>\n",
              "    </tr>\n",
              "    <tr>\n",
              "      <th>1185684</th>\n",
              "      <td>3304557</td>\n",
              "      <td>Melquezedeque</td>\n",
              "      <td>16</td>\n",
              "      <td>Rio de Janeiro</td>\n",
              "      <td>Rio de Janeiro</td>\n",
              "      <td>Sudeste</td>\n",
              "      <td>Brasil</td>\n",
              "    </tr>\n",
              "    <tr>\n",
              "      <th>1185685</th>\n",
              "      <td>3304557</td>\n",
              "      <td>Melquizedeque</td>\n",
              "      <td>16</td>\n",
              "      <td>Rio de Janeiro</td>\n",
              "      <td>Rio de Janeiro</td>\n",
              "      <td>Sudeste</td>\n",
              "      <td>Brasil</td>\n",
              "    </tr>\n",
              "    <tr>\n",
              "      <th>1260906</th>\n",
              "      <td>3550308</td>\n",
              "      <td>Oliveiramaria</td>\n",
              "      <td>17</td>\n",
              "      <td>São Paulo</td>\n",
              "      <td>São Paulo</td>\n",
              "      <td>Sudeste</td>\n",
              "      <td>Brasil</td>\n",
              "    </tr>\n",
              "    <tr>\n",
              "      <th>1292677</th>\n",
              "      <td>2607901</td>\n",
              "      <td>Melquesedeque</td>\n",
              "      <td>18</td>\n",
              "      <td>Pernambuco</td>\n",
              "      <td>Jaboatão dos Guararapes</td>\n",
              "      <td>Nordeste</td>\n",
              "      <td>Brasil</td>\n",
              "    </tr>\n",
              "    <tr>\n",
              "      <th>1293421</th>\n",
              "      <td>2611606</td>\n",
              "      <td>Melquezedeque</td>\n",
              "      <td>18</td>\n",
              "      <td>Pernambuco</td>\n",
              "      <td>Recife</td>\n",
              "      <td>Nordeste</td>\n",
              "      <td>Brasil</td>\n",
              "    </tr>\n",
              "    <tr>\n",
              "      <th>1300534</th>\n",
              "      <td>2927408</td>\n",
              "      <td>Melquesedeque</td>\n",
              "      <td>18</td>\n",
              "      <td>Bahia</td>\n",
              "      <td>Salvador</td>\n",
              "      <td>Nordeste</td>\n",
              "      <td>Brasil</td>\n",
              "    </tr>\n",
              "    <tr>\n",
              "      <th>1300535</th>\n",
              "      <td>2927408</td>\n",
              "      <td>Melquizedeque</td>\n",
              "      <td>18</td>\n",
              "      <td>Bahia</td>\n",
              "      <td>Salvador</td>\n",
              "      <td>Nordeste</td>\n",
              "      <td>Brasil</td>\n",
              "    </tr>\n",
              "    <tr>\n",
              "      <th>1338145</th>\n",
              "      <td>1501402</td>\n",
              "      <td>Melquisedeque</td>\n",
              "      <td>19</td>\n",
              "      <td>Pará</td>\n",
              "      <td>Belém</td>\n",
              "      <td>Norte</td>\n",
              "      <td>Brasil</td>\n",
              "    </tr>\n",
              "    <tr>\n",
              "      <th>1342412</th>\n",
              "      <td>2111300</td>\n",
              "      <td>Melquisedeque</td>\n",
              "      <td>19</td>\n",
              "      <td>Maranhão</td>\n",
              "      <td>São Luís</td>\n",
              "      <td>Nordeste</td>\n",
              "      <td>Brasil</td>\n",
              "    </tr>\n",
              "    <tr>\n",
              "      <th>1372833</th>\n",
              "      <td>3550308</td>\n",
              "      <td>Mariacristina</td>\n",
              "      <td>19</td>\n",
              "      <td>São Paulo</td>\n",
              "      <td>São Paulo</td>\n",
              "      <td>Sudeste</td>\n",
              "      <td>Brasil</td>\n",
              "    </tr>\n",
              "    <tr>\n",
              "      <th>1395194</th>\n",
              "      <td>2304400</td>\n",
              "      <td>Melquisedeque</td>\n",
              "      <td>20</td>\n",
              "      <td>Ceará</td>\n",
              "      <td>Fortaleza</td>\n",
              "      <td>Nordeste</td>\n",
              "      <td>Brasil</td>\n",
              "    </tr>\n",
              "    <tr>\n",
              "      <th>1399733</th>\n",
              "      <td>2611606</td>\n",
              "      <td>Melquesedeque</td>\n",
              "      <td>20</td>\n",
              "      <td>Pernambuco</td>\n",
              "      <td>Recife</td>\n",
              "      <td>Nordeste</td>\n",
              "      <td>Brasil</td>\n",
              "    </tr>\n",
              "    <tr>\n",
              "      <th>1478428</th>\n",
              "      <td>1302603</td>\n",
              "      <td>Melquesedeque</td>\n",
              "      <td>22</td>\n",
              "      <td>Amazonas</td>\n",
              "      <td>Manaus</td>\n",
              "      <td>Norte</td>\n",
              "      <td>Brasil</td>\n",
              "    </tr>\n",
              "    <tr>\n",
              "      <th>1562133</th>\n",
              "      <td>2704302</td>\n",
              "      <td>Melquisedeque</td>\n",
              "      <td>24</td>\n",
              "      <td>Alagoas</td>\n",
              "      <td>Maceió</td>\n",
              "      <td>Nordeste</td>\n",
              "      <td>Brasil</td>\n",
              "    </tr>\n",
              "    <tr>\n",
              "      <th>1577057</th>\n",
              "      <td>3550308</td>\n",
              "      <td>Mariaaparecida</td>\n",
              "      <td>24</td>\n",
              "      <td>São Paulo</td>\n",
              "      <td>São Paulo</td>\n",
              "      <td>Sudeste</td>\n",
              "      <td>Brasil</td>\n",
              "    </tr>\n",
              "    <tr>\n",
              "      <th>1577063</th>\n",
              "      <td>3550308</td>\n",
              "      <td>Melquesedeque</td>\n",
              "      <td>24</td>\n",
              "      <td>São Paulo</td>\n",
              "      <td>São Paulo</td>\n",
              "      <td>Sudeste</td>\n",
              "      <td>Brasil</td>\n",
              "    </tr>\n",
              "    <tr>\n",
              "      <th>1703959</th>\n",
              "      <td>2611606</td>\n",
              "      <td>Melquisedeque</td>\n",
              "      <td>29</td>\n",
              "      <td>Pernambuco</td>\n",
              "      <td>Recife</td>\n",
              "      <td>Nordeste</td>\n",
              "      <td>Brasil</td>\n",
              "    </tr>\n",
              "    <tr>\n",
              "      <th>1764068</th>\n",
              "      <td>5300108</td>\n",
              "      <td>Melquisedeque</td>\n",
              "      <td>31</td>\n",
              "      <td>Distrito Federal</td>\n",
              "      <td>Brasília</td>\n",
              "      <td>Centro-Oeste</td>\n",
              "      <td>Brasil</td>\n",
              "    </tr>\n",
              "    <tr>\n",
              "      <th>1835269</th>\n",
              "      <td>1302603</td>\n",
              "      <td>Melquisedeque</td>\n",
              "      <td>36</td>\n",
              "      <td>Amazonas</td>\n",
              "      <td>Manaus</td>\n",
              "      <td>Norte</td>\n",
              "      <td>Brasil</td>\n",
              "    </tr>\n",
              "    <tr>\n",
              "      <th>1874663</th>\n",
              "      <td>3550308</td>\n",
              "      <td>Melquisedeque</td>\n",
              "      <td>38</td>\n",
              "      <td>São Paulo</td>\n",
              "      <td>São Paulo</td>\n",
              "      <td>Sudeste</td>\n",
              "      <td>Brasil</td>\n",
              "    </tr>\n",
              "    <tr>\n",
              "      <th>1944573</th>\n",
              "      <td>3304557</td>\n",
              "      <td>Melquisedeque</td>\n",
              "      <td>44</td>\n",
              "      <td>Rio de Janeiro</td>\n",
              "      <td>Rio de Janeiro</td>\n",
              "      <td>Sudeste</td>\n",
              "      <td>Brasil</td>\n",
              "    </tr>\n",
              "  </tbody>\n",
              "</table>\n",
              "</div>"
            ],
            "text/plain": [
              "         id_municipio            nome  ...        regiao    país\n",
              "143714        2927408   Melquisedeque  ...      Nordeste  Brasil\n",
              "480246        2408102   Melquesedeque  ...      Nordeste  Brasil\n",
              "488612        2607901   Melquizedeque  ...      Nordeste  Brasil\n",
              "489932        2610707   Melquezedeque  ...      Nordeste  Brasil\n",
              "503072        2910800   Melquezedeque  ...      Nordeste  Brasil\n",
              "540261        3301702   Melquisedeque  ...       Sudeste  Brasil\n",
              "564218        3550308   Francisquinha  ...       Sudeste  Brasil\n",
              "606845        5208707   Melquisedeque  ...  Centro-Oeste  Brasil\n",
              "616817        1500800   Melquisedeque  ...         Norte  Brasil\n",
              "632999        2211001   Melquesedeque  ...      Nordeste  Brasil\n",
              "633000        2211001   Melquisedeque  ...      Nordeste  Brasil\n",
              "634983        2304400   Melquesedeque  ...      Nordeste  Brasil\n",
              "645005        2602902   Melquisedeque  ...      Nordeste  Brasil\n",
              "646937        2607901   Melquezedeque  ...      Nordeste  Brasil\n",
              "646938        2607901   Melquisedeque  ...      Nordeste  Brasil\n",
              "651636        2704302   Melquesedeque  ...      Nordeste  Brasil\n",
              "651637        2704302   Melquezedeque  ...      Nordeste  Brasil\n",
              "693181        3304557   Antoniocarlos  ...       Sudeste  Brasil\n",
              "711881        3550308   Mariaoliveira  ...       Sudeste  Brasil\n",
              "801862        3106200   Melquisedeque  ...       Sudeste  Brasil\n",
              "836904        3550308   Melquizedeque  ...       Sudeste  Brasil\n",
              "872814        1302603   Melquizedeque  ...         Norte  Brasil\n",
              "890922        2408102   Melquisedeque  ...      Nordeste  Brasil\n",
              "929816        3303500   Melquisedeque  ...       Sudeste  Brasil\n",
              "944278        3550308   Gabrielsantos  ...       Sudeste  Brasil\n",
              "973409        5300108   Melquesedeque  ...  Centro-Oeste  Brasil\n",
              "975941        1302603   Melquezedeque  ...         Norte  Brasil\n",
              "977691        1501402   Melquesedeque  ...         Norte  Brasil\n",
              "988451        2304400   Francisquinha  ...      Nordeste  Brasil\n",
              "993237        2507507   Melquisedeque  ...      Nordeste  Brasil\n",
              "1038036       3550308   Antoniocarlos  ...       Sudeste  Brasil\n",
              "1038609       3550308   Melquezedeque  ...       Sudeste  Brasil\n",
              "1063666       5300108   Melquizedeque  ...  Centro-Oeste  Brasil\n",
              "1084872       2611606   Melquizedeque  ...      Nordeste  Brasil\n",
              "1185684       3304557   Melquezedeque  ...       Sudeste  Brasil\n",
              "1185685       3304557   Melquizedeque  ...       Sudeste  Brasil\n",
              "1260906       3550308   Oliveiramaria  ...       Sudeste  Brasil\n",
              "1292677       2607901   Melquesedeque  ...      Nordeste  Brasil\n",
              "1293421       2611606   Melquezedeque  ...      Nordeste  Brasil\n",
              "1300534       2927408   Melquesedeque  ...      Nordeste  Brasil\n",
              "1300535       2927408   Melquizedeque  ...      Nordeste  Brasil\n",
              "1338145       1501402   Melquisedeque  ...         Norte  Brasil\n",
              "1342412       2111300   Melquisedeque  ...      Nordeste  Brasil\n",
              "1372833       3550308   Mariacristina  ...       Sudeste  Brasil\n",
              "1395194       2304400   Melquisedeque  ...      Nordeste  Brasil\n",
              "1399733       2611606   Melquesedeque  ...      Nordeste  Brasil\n",
              "1478428       1302603   Melquesedeque  ...         Norte  Brasil\n",
              "1562133       2704302   Melquisedeque  ...      Nordeste  Brasil\n",
              "1577057       3550308  Mariaaparecida  ...       Sudeste  Brasil\n",
              "1577063       3550308   Melquesedeque  ...       Sudeste  Brasil\n",
              "1703959       2611606   Melquisedeque  ...      Nordeste  Brasil\n",
              "1764068       5300108   Melquisedeque  ...  Centro-Oeste  Brasil\n",
              "1835269       1302603   Melquisedeque  ...         Norte  Brasil\n",
              "1874663       3550308   Melquisedeque  ...       Sudeste  Brasil\n",
              "1944573       3304557   Melquisedeque  ...       Sudeste  Brasil\n",
              "\n",
              "[55 rows x 7 columns]"
            ]
          },
          "metadata": {
            "tags": []
          },
          "execution_count": 33
        }
      ]
    },
    {
      "cell_type": "code",
      "metadata": {
        "colab": {
          "base_uri": "https://localhost:8080/",
          "height": 80
        },
        "id": "Z86KM0efvLP9",
        "outputId": "52a04fd8-c4f4-4440-b0d2-7575ec28a711"
      },
      "source": [
        "# Maior nome: 'Mariaaparecida'\n",
        "dataset_nomes_brasil[dataset_nomes_brasil['nome'].str.len() >= 14]"
      ],
      "execution_count": null,
      "outputs": [
        {
          "output_type": "execute_result",
          "data": {
            "text/html": [
              "<div>\n",
              "<style scoped>\n",
              "    .dataframe tbody tr th:only-of-type {\n",
              "        vertical-align: middle;\n",
              "    }\n",
              "\n",
              "    .dataframe tbody tr th {\n",
              "        vertical-align: top;\n",
              "    }\n",
              "\n",
              "    .dataframe thead th {\n",
              "        text-align: right;\n",
              "    }\n",
              "</style>\n",
              "<table border=\"1\" class=\"dataframe\">\n",
              "  <thead>\n",
              "    <tr style=\"text-align: right;\">\n",
              "      <th></th>\n",
              "      <th>id_municipio</th>\n",
              "      <th>nome</th>\n",
              "      <th>qtde_nascimentos_ate_2010</th>\n",
              "      <th>uf</th>\n",
              "      <th>municipio</th>\n",
              "      <th>regiao</th>\n",
              "      <th>país</th>\n",
              "    </tr>\n",
              "  </thead>\n",
              "  <tbody>\n",
              "    <tr>\n",
              "      <th>1577057</th>\n",
              "      <td>3550308</td>\n",
              "      <td>Mariaaparecida</td>\n",
              "      <td>24</td>\n",
              "      <td>São Paulo</td>\n",
              "      <td>São Paulo</td>\n",
              "      <td>Sudeste</td>\n",
              "      <td>Brasil</td>\n",
              "    </tr>\n",
              "  </tbody>\n",
              "</table>\n",
              "</div>"
            ],
            "text/plain": [
              "         id_municipio            nome  ...   regiao    país\n",
              "1577057       3550308  Mariaaparecida  ...  Sudeste  Brasil\n",
              "\n",
              "[1 rows x 7 columns]"
            ]
          },
          "metadata": {
            "tags": []
          },
          "execution_count": 34
        }
      ]
    },
    {
      "cell_type": "markdown",
      "metadata": {
        "id": "30Gw7Ponu6QO"
      },
      "source": [
        "# Pessoas com o menor nome"
      ]
    },
    {
      "cell_type": "code",
      "metadata": {
        "colab": {
          "base_uri": "https://localhost:8080/",
          "height": 417
        },
        "id": "PAwwogrRu7n2",
        "outputId": "c942d4e8-6d93-48b7-f418-6d2b6e496ccc"
      },
      "source": [
        "dataset_nomes_brasil[dataset_nomes_brasil['nome'].str.len() <= 2]"
      ],
      "execution_count": null,
      "outputs": [
        {
          "output_type": "execute_result",
          "data": {
            "text/html": [
              "<div>\n",
              "<style scoped>\n",
              "    .dataframe tbody tr th:only-of-type {\n",
              "        vertical-align: middle;\n",
              "    }\n",
              "\n",
              "    .dataframe tbody tr th {\n",
              "        vertical-align: top;\n",
              "    }\n",
              "\n",
              "    .dataframe thead th {\n",
              "        text-align: right;\n",
              "    }\n",
              "</style>\n",
              "<table border=\"1\" class=\"dataframe\">\n",
              "  <thead>\n",
              "    <tr style=\"text-align: right;\">\n",
              "      <th></th>\n",
              "      <th>id_municipio</th>\n",
              "      <th>nome</th>\n",
              "      <th>qtde_nascimentos_ate_2010</th>\n",
              "      <th>uf</th>\n",
              "      <th>municipio</th>\n",
              "      <th>regiao</th>\n",
              "      <th>país</th>\n",
              "    </tr>\n",
              "  </thead>\n",
              "  <tbody>\n",
              "    <tr>\n",
              "      <th>2251</th>\n",
              "      <td>1100205</td>\n",
              "      <td>De</td>\n",
              "      <td>52</td>\n",
              "      <td>Rondônia</td>\n",
              "      <td>Porto Velho</td>\n",
              "      <td>Norte</td>\n",
              "      <td>Brasil</td>\n",
              "    </tr>\n",
              "    <tr>\n",
              "      <th>5213</th>\n",
              "      <td>1200401</td>\n",
              "      <td>Ma</td>\n",
              "      <td>63</td>\n",
              "      <td>Acre</td>\n",
              "      <td>Rio Branco</td>\n",
              "      <td>Norte</td>\n",
              "      <td>Brasil</td>\n",
              "    </tr>\n",
              "    <tr>\n",
              "      <th>5993</th>\n",
              "      <td>1300409</td>\n",
              "      <td>Rn</td>\n",
              "      <td>63</td>\n",
              "      <td>Amazonas</td>\n",
              "      <td>Barcelos</td>\n",
              "      <td>Norte</td>\n",
              "      <td>Brasil</td>\n",
              "    </tr>\n",
              "    <tr>\n",
              "      <th>8432</th>\n",
              "      <td>1302603</td>\n",
              "      <td>Da</td>\n",
              "      <td>47</td>\n",
              "      <td>Amazonas</td>\n",
              "      <td>Manaus</td>\n",
              "      <td>Norte</td>\n",
              "      <td>Brasil</td>\n",
              "    </tr>\n",
              "    <tr>\n",
              "      <th>8579</th>\n",
              "      <td>1302603</td>\n",
              "      <td>Ed</td>\n",
              "      <td>53</td>\n",
              "      <td>Amazonas</td>\n",
              "      <td>Manaus</td>\n",
              "      <td>Norte</td>\n",
              "      <td>Brasil</td>\n",
              "    </tr>\n",
              "    <tr>\n",
              "      <th>...</th>\n",
              "      <td>...</td>\n",
              "      <td>...</td>\n",
              "      <td>...</td>\n",
              "      <td>...</td>\n",
              "      <td>...</td>\n",
              "      <td>...</td>\n",
              "      <td>...</td>\n",
              "    </tr>\n",
              "    <tr>\n",
              "      <th>1950613</th>\n",
              "      <td>2303709</td>\n",
              "      <td>Ma</td>\n",
              "      <td>45</td>\n",
              "      <td>Ceará</td>\n",
              "      <td>Caucaia</td>\n",
              "      <td>Nordeste</td>\n",
              "      <td>Brasil</td>\n",
              "    </tr>\n",
              "    <tr>\n",
              "      <th>1954323</th>\n",
              "      <td>3300456</td>\n",
              "      <td>Da</td>\n",
              "      <td>45</td>\n",
              "      <td>Rio de Janeiro</td>\n",
              "      <td>Belford Roxo</td>\n",
              "      <td>Sudeste</td>\n",
              "      <td>Brasil</td>\n",
              "    </tr>\n",
              "    <tr>\n",
              "      <th>1954659</th>\n",
              "      <td>3304557</td>\n",
              "      <td>Sr</td>\n",
              "      <td>45</td>\n",
              "      <td>Rio de Janeiro</td>\n",
              "      <td>Rio de Janeiro</td>\n",
              "      <td>Sudeste</td>\n",
              "      <td>Brasil</td>\n",
              "    </tr>\n",
              "    <tr>\n",
              "      <th>1955072</th>\n",
              "      <td>3509502</td>\n",
              "      <td>De</td>\n",
              "      <td>45</td>\n",
              "      <td>São Paulo</td>\n",
              "      <td>Campinas</td>\n",
              "      <td>Sudeste</td>\n",
              "      <td>Brasil</td>\n",
              "    </tr>\n",
              "    <tr>\n",
              "      <th>1956133</th>\n",
              "      <td>3548708</td>\n",
              "      <td>Ed</td>\n",
              "      <td>45</td>\n",
              "      <td>São Paulo</td>\n",
              "      <td>São Bernardo do Campo</td>\n",
              "      <td>Sudeste</td>\n",
              "      <td>Brasil</td>\n",
              "    </tr>\n",
              "  </tbody>\n",
              "</table>\n",
              "<p>733 rows × 7 columns</p>\n",
              "</div>"
            ],
            "text/plain": [
              "         id_municipio nome  ...    regiao    país\n",
              "2251          1100205   De  ...     Norte  Brasil\n",
              "5213          1200401   Ma  ...     Norte  Brasil\n",
              "5993          1300409   Rn  ...     Norte  Brasil\n",
              "8432          1302603   Da  ...     Norte  Brasil\n",
              "8579          1302603   Ed  ...     Norte  Brasil\n",
              "...               ...  ...  ...       ...     ...\n",
              "1950613       2303709   Ma  ...  Nordeste  Brasil\n",
              "1954323       3300456   Da  ...   Sudeste  Brasil\n",
              "1954659       3304557   Sr  ...   Sudeste  Brasil\n",
              "1955072       3509502   De  ...   Sudeste  Brasil\n",
              "1956133       3548708   Ed  ...   Sudeste  Brasil\n",
              "\n",
              "[733 rows x 7 columns]"
            ]
          },
          "metadata": {
            "tags": []
          },
          "execution_count": 35
        }
      ]
    },
    {
      "cell_type": "markdown",
      "metadata": {
        "id": "VpHnSVuMwMee"
      },
      "source": [
        "# Pesquisa de nome de todos os alunos e demais facilitadores da VAMOAI"
      ]
    },
    {
      "cell_type": "code",
      "metadata": {
        "colab": {
          "base_uri": "https://localhost:8080/",
          "height": 1000
        },
        "id": "kuRN__91wg-V",
        "outputId": "69a4779d-f5df-4e9a-cc49-ff88147e7344"
      },
      "source": [
        "#TOP 5 DE ALUNOS COM NOMES MAIS COMUNS NA VAMOAI\n",
        "nomes_sala = pd.DataFrame(columns=['nome', 'quantidade'])\n",
        "nomes_sala = nomes_sala.append({'nome' : 'Marian', 'quantidade' : dataset_nomes_brasil.groupby('nome').qtde_nascimentos_ate_2010.sum()['Marian']}, ignore_index=True)\n",
        "nomes_sala = nomes_sala.append({'nome' : 'Luzivan', 'quantidade' : dataset_nomes_brasil.groupby('nome').qtde_nascimentos_ate_2010.sum()['Luzivan']}, ignore_index=True)\n",
        "nomes_sala = nomes_sala.append({'nome' : 'Thiago', 'quantidade' : dataset_nomes_brasil.groupby('nome').qtde_nascimentos_ate_2010.sum()['Thiago']}, ignore_index=True)\n",
        "nomes_sala = nomes_sala.append({'nome' : 'Ana', 'quantidade' : dataset_nomes_brasil.groupby('nome').qtde_nascimentos_ate_2010.sum()['Ana']}, ignore_index=True)\n",
        "nomes_sala = nomes_sala.append({'nome' : 'Felipe', 'quantidade' : dataset_nomes_brasil.groupby('nome').qtde_nascimentos_ate_2010.sum()['Felipe']}, ignore_index=True)\n",
        "nomes_sala = nomes_sala.append({'nome' : 'Nathan', 'quantidade' : dataset_nomes_brasil.groupby('nome').qtde_nascimentos_ate_2010.sum()['Nathan']}, ignore_index=True)\n",
        "nomes_sala = nomes_sala.append({'nome' : 'Michelle', 'quantidade' : dataset_nomes_brasil.groupby('nome').qtde_nascimentos_ate_2010.sum()['Michelle']}, ignore_index=True)\n",
        "nomes_sala = nomes_sala.append({'nome' : 'Caroline', 'quantidade' : dataset_nomes_brasil.groupby('nome').qtde_nascimentos_ate_2010.sum()['Caroline']}, ignore_index=True)\n",
        "nomes_sala = nomes_sala.append({'nome' : 'Ramon', 'quantidade' : dataset_nomes_brasil.groupby('nome').qtde_nascimentos_ate_2010.sum()['Ramon']}, ignore_index=True)\n",
        "nomes_sala = nomes_sala.append({'nome' : 'Demetrio', 'quantidade' : dataset_nomes_brasil.groupby('nome').qtde_nascimentos_ate_2010.sum()['Demetrio']}, ignore_index=True)\n",
        "nomes_sala = nomes_sala.append({'nome' : 'Diego', 'quantidade' : dataset_nomes_brasil.groupby('nome').qtde_nascimentos_ate_2010.sum()['Diego']}, ignore_index=True)\n",
        "nomes_sala = nomes_sala.append({'nome' : 'Gabriela', 'quantidade' : dataset_nomes_brasil.groupby('nome').qtde_nascimentos_ate_2010.sum()['Gabriela']}, ignore_index=True)\n",
        "nomes_sala = nomes_sala.append({'nome' : 'Gisele', 'quantidade' : dataset_nomes_brasil.groupby('nome').qtde_nascimentos_ate_2010.sum()['Gisele']}, ignore_index=True)\n",
        "nomes_sala = nomes_sala.append({'nome' : 'Isabela', 'quantidade' : dataset_nomes_brasil.groupby('nome').qtde_nascimentos_ate_2010.sum()['Isabela']}, ignore_index=True)\n",
        "nomes_sala = nomes_sala.append({'nome' : 'Jefferson', 'quantidade' : dataset_nomes_brasil.groupby('nome').qtde_nascimentos_ate_2010.sum()['Jefferson']}, ignore_index=True)\n",
        "nomes_sala = nomes_sala.append({'nome' : 'Jennifer', 'quantidade' : dataset_nomes_brasil.groupby('nome').qtde_nascimentos_ate_2010.sum()['Jennifer']}, ignore_index=True)\n",
        "nomes_sala = nomes_sala.append({'nome' : 'Joao', 'quantidade' : dataset_nomes_brasil.groupby('nome').qtde_nascimentos_ate_2010.sum()['Joao']}, ignore_index=True)\n",
        "nomes_sala = nomes_sala.append({'nome' : 'Juliana', 'quantidade' : dataset_nomes_brasil.groupby('nome').qtde_nascimentos_ate_2010.sum()['Juliana']}, ignore_index=True)\n",
        "nomes_sala = nomes_sala.append({'nome' : 'Gabriel', 'quantidade' : dataset_nomes_brasil.groupby('nome').qtde_nascimentos_ate_2010.sum()['Gabriel']}, ignore_index=True)\n",
        "nomes_sala = nomes_sala.append({'nome' : 'Maressa', 'quantidade' : dataset_nomes_brasil.groupby('nome').qtde_nascimentos_ate_2010.sum()['Maressa']}, ignore_index=True)\n",
        "nomes_sala = nomes_sala.append({'nome' : 'Mateus', 'quantidade' : dataset_nomes_brasil.groupby('nome').qtde_nascimentos_ate_2010.sum()['Mateus']}, ignore_index=True)\n",
        "nomes_sala = nomes_sala.append({'nome' : 'Natalia', 'quantidade' : dataset_nomes_brasil.groupby('nome').qtde_nascimentos_ate_2010.sum()['Natalia']}, ignore_index=True)\n",
        "nomes_sala = nomes_sala.append({'nome' : 'Olavo', 'quantidade' : dataset_nomes_brasil.groupby('nome').qtde_nascimentos_ate_2010.sum()['Olavo']}, ignore_index=True)\n",
        "nomes_sala = nomes_sala.append({'nome' : 'Victor', 'quantidade' : dataset_nomes_brasil.groupby('nome').qtde_nascimentos_ate_2010.sum()['Victor']}, ignore_index=True)\n",
        "nomes_sala = nomes_sala.append({'nome' : 'Vithor', 'quantidade' : dataset_nomes_brasil.groupby('nome').qtde_nascimentos_ate_2010.sum()['Vithor']}, ignore_index=True)\n",
        "nomes_sala = nomes_sala.append({'nome' : 'Ludmila', 'quantidade' : dataset_nomes_brasil.groupby('nome').qtde_nascimentos_ate_2010.sum()['Ludmila']}, ignore_index=True)\n",
        "nomes_sala = nomes_sala.append({'nome' : 'Aline', 'quantidade' : dataset_nomes_brasil.groupby('nome').qtde_nascimentos_ate_2010.sum()['Aline']}, ignore_index=True)\n",
        "nomes_sala = nomes_sala.append({'nome' : 'Natascha', 'quantidade' : dataset_nomes_brasil.groupby('nome').qtde_nascimentos_ate_2010.sum()['Natascha']}, ignore_index=True)\n",
        "nomes_sala = nomes_sala.append({'nome' : 'Patryck', 'quantidade' : dataset_nomes_brasil.groupby('nome').qtde_nascimentos_ate_2010.sum()['Patryck']}, ignore_index=True)\n",
        "nomes_sala = nomes_sala.append({'nome' : 'Inaja', 'quantidade' : dataset_nomes_brasil.groupby('nome').qtde_nascimentos_ate_2010.sum()['Inaja']}, ignore_index=True)\n",
        "nomes_sala = nomes_sala.append({'nome' : 'Dayson', 'quantidade' : dataset_nomes_brasil.groupby('nome').qtde_nascimentos_ate_2010.sum()['Dayson']}, ignore_index=True)\n",
        "nomes_sala = nomes_sala.append({'nome' : 'Lais', 'quantidade' : dataset_nomes_brasil.groupby('nome').qtde_nascimentos_ate_2010.sum()['Lais']}, ignore_index=True)\n",
        "nomes_sala = nomes_sala.append({'nome' : 'Leticia', 'quantidade' : dataset_nomes_brasil.groupby('nome').qtde_nascimentos_ate_2010.sum()['Leticia']}, ignore_index=True)\n",
        "\n",
        "#nomes_sala = nomes_sala.append({'nome' : 'Jheysson' , 'quantidade' : dataset_nomes_brasil.groupby('nome').qtde_nascimentos_ate_2010.sum()['Jheysson']}, ignore_index=True)\n",
        "\n",
        "nomes_sala= nomes_sala.sort_values(ascending=False, by='quantidade')\n",
        "nomes_sala"
      ],
      "execution_count": null,
      "outputs": [
        {
          "output_type": "execute_result",
          "data": {
            "text/html": [
              "<div>\n",
              "<style scoped>\n",
              "    .dataframe tbody tr th:only-of-type {\n",
              "        vertical-align: middle;\n",
              "    }\n",
              "\n",
              "    .dataframe tbody tr th {\n",
              "        vertical-align: top;\n",
              "    }\n",
              "\n",
              "    .dataframe thead th {\n",
              "        text-align: right;\n",
              "    }\n",
              "</style>\n",
              "<table border=\"1\" class=\"dataframe\">\n",
              "  <thead>\n",
              "    <tr style=\"text-align: right;\">\n",
              "      <th></th>\n",
              "      <th>nome</th>\n",
              "      <th>quantidade</th>\n",
              "    </tr>\n",
              "  </thead>\n",
              "  <tbody>\n",
              "    <tr>\n",
              "      <th>3</th>\n",
              "      <td>Ana</td>\n",
              "      <td>3089834</td>\n",
              "    </tr>\n",
              "    <tr>\n",
              "      <th>16</th>\n",
              "      <td>Joao</td>\n",
              "      <td>2984088</td>\n",
              "    </tr>\n",
              "    <tr>\n",
              "      <th>18</th>\n",
              "      <td>Gabriel</td>\n",
              "      <td>928731</td>\n",
              "    </tr>\n",
              "    <tr>\n",
              "      <th>4</th>\n",
              "      <td>Felipe</td>\n",
              "      <td>613713</td>\n",
              "    </tr>\n",
              "    <tr>\n",
              "      <th>20</th>\n",
              "      <td>Mateus</td>\n",
              "      <td>584145</td>\n",
              "    </tr>\n",
              "    <tr>\n",
              "      <th>17</th>\n",
              "      <td>Juliana</td>\n",
              "      <td>558001</td>\n",
              "    </tr>\n",
              "    <tr>\n",
              "      <th>26</th>\n",
              "      <td>Aline</td>\n",
              "      <td>505039</td>\n",
              "    </tr>\n",
              "    <tr>\n",
              "      <th>32</th>\n",
              "      <td>Leticia</td>\n",
              "      <td>427044</td>\n",
              "    </tr>\n",
              "    <tr>\n",
              "      <th>10</th>\n",
              "      <td>Diego</td>\n",
              "      <td>416117</td>\n",
              "    </tr>\n",
              "    <tr>\n",
              "      <th>11</th>\n",
              "      <td>Gabriela</td>\n",
              "      <td>370924</td>\n",
              "    </tr>\n",
              "    <tr>\n",
              "      <th>2</th>\n",
              "      <td>Thiago</td>\n",
              "      <td>332722</td>\n",
              "    </tr>\n",
              "    <tr>\n",
              "      <th>21</th>\n",
              "      <td>Natalia</td>\n",
              "      <td>324925</td>\n",
              "    </tr>\n",
              "    <tr>\n",
              "      <th>23</th>\n",
              "      <td>Victor</td>\n",
              "      <td>229554</td>\n",
              "    </tr>\n",
              "    <tr>\n",
              "      <th>13</th>\n",
              "      <td>Isabela</td>\n",
              "      <td>204815</td>\n",
              "    </tr>\n",
              "    <tr>\n",
              "      <th>7</th>\n",
              "      <td>Caroline</td>\n",
              "      <td>201255</td>\n",
              "    </tr>\n",
              "    <tr>\n",
              "      <th>12</th>\n",
              "      <td>Gisele</td>\n",
              "      <td>152753</td>\n",
              "    </tr>\n",
              "    <tr>\n",
              "      <th>31</th>\n",
              "      <td>Lais</td>\n",
              "      <td>119069</td>\n",
              "    </tr>\n",
              "    <tr>\n",
              "      <th>8</th>\n",
              "      <td>Ramon</td>\n",
              "      <td>51634</td>\n",
              "    </tr>\n",
              "    <tr>\n",
              "      <th>14</th>\n",
              "      <td>Jefferson</td>\n",
              "      <td>46318</td>\n",
              "    </tr>\n",
              "    <tr>\n",
              "      <th>6</th>\n",
              "      <td>Michelle</td>\n",
              "      <td>26829</td>\n",
              "    </tr>\n",
              "    <tr>\n",
              "      <th>15</th>\n",
              "      <td>Jennifer</td>\n",
              "      <td>20794</td>\n",
              "    </tr>\n",
              "    <tr>\n",
              "      <th>25</th>\n",
              "      <td>Ludmila</td>\n",
              "      <td>18098</td>\n",
              "    </tr>\n",
              "    <tr>\n",
              "      <th>5</th>\n",
              "      <td>Nathan</td>\n",
              "      <td>12265</td>\n",
              "    </tr>\n",
              "    <tr>\n",
              "      <th>22</th>\n",
              "      <td>Olavo</td>\n",
              "      <td>11485</td>\n",
              "    </tr>\n",
              "    <tr>\n",
              "      <th>9</th>\n",
              "      <td>Demetrio</td>\n",
              "      <td>2832</td>\n",
              "    </tr>\n",
              "    <tr>\n",
              "      <th>19</th>\n",
              "      <td>Maressa</td>\n",
              "      <td>1308</td>\n",
              "    </tr>\n",
              "    <tr>\n",
              "      <th>0</th>\n",
              "      <td>Marian</td>\n",
              "      <td>517</td>\n",
              "    </tr>\n",
              "    <tr>\n",
              "      <th>27</th>\n",
              "      <td>Natascha</td>\n",
              "      <td>251</td>\n",
              "    </tr>\n",
              "    <tr>\n",
              "      <th>29</th>\n",
              "      <td>Inaja</td>\n",
              "      <td>212</td>\n",
              "    </tr>\n",
              "    <tr>\n",
              "      <th>24</th>\n",
              "      <td>Vithor</td>\n",
              "      <td>90</td>\n",
              "    </tr>\n",
              "    <tr>\n",
              "      <th>1</th>\n",
              "      <td>Luzivan</td>\n",
              "      <td>78</td>\n",
              "    </tr>\n",
              "    <tr>\n",
              "      <th>30</th>\n",
              "      <td>Dayson</td>\n",
              "      <td>48</td>\n",
              "    </tr>\n",
              "    <tr>\n",
              "      <th>28</th>\n",
              "      <td>Patryck</td>\n",
              "      <td>45</td>\n",
              "    </tr>\n",
              "  </tbody>\n",
              "</table>\n",
              "</div>"
            ],
            "text/plain": [
              "         nome quantidade\n",
              "3         Ana    3089834\n",
              "16       Joao    2984088\n",
              "18    Gabriel     928731\n",
              "4      Felipe     613713\n",
              "20     Mateus     584145\n",
              "17    Juliana     558001\n",
              "26      Aline     505039\n",
              "32    Leticia     427044\n",
              "10      Diego     416117\n",
              "11   Gabriela     370924\n",
              "2      Thiago     332722\n",
              "21    Natalia     324925\n",
              "23     Victor     229554\n",
              "13    Isabela     204815\n",
              "7    Caroline     201255\n",
              "12     Gisele     152753\n",
              "31       Lais     119069\n",
              "8       Ramon      51634\n",
              "14  Jefferson      46318\n",
              "6    Michelle      26829\n",
              "15   Jennifer      20794\n",
              "25    Ludmila      18098\n",
              "5      Nathan      12265\n",
              "22      Olavo      11485\n",
              "9    Demetrio       2832\n",
              "19    Maressa       1308\n",
              "0      Marian        517\n",
              "27   Natascha        251\n",
              "29      Inaja        212\n",
              "24     Vithor         90\n",
              "1     Luzivan         78\n",
              "30     Dayson         48\n",
              "28    Patryck         45"
            ]
          },
          "metadata": {
            "tags": []
          },
          "execution_count": 5
        }
      ]
    },
    {
      "cell_type": "code",
      "metadata": {
        "id": "4zMCAHyQ5w7F"
      },
      "source": [
        "# salvando tabela\n",
        "nomes_sala.to_csv('nomes_sala_vamoai.csv', index=False)"
      ],
      "execution_count": null,
      "outputs": []
    },
    {
      "cell_type": "code",
      "metadata": {
        "id": "09jCLVTDyXbl"
      },
      "source": [
        "nomes_populares = nomes_sala[:5]"
      ],
      "execution_count": null,
      "outputs": []
    },
    {
      "cell_type": "code",
      "metadata": {
        "colab": {
          "base_uri": "https://localhost:8080/",
          "height": 627
        },
        "id": "0FxPvTKjyFDO",
        "outputId": "b37a4d5b-d498-4c9c-f8a7-b61e001e0d1a"
      },
      "source": [
        "# gráfico top 5 nomes mais populares da turma\n",
        "sns.set()\n",
        "plt.figure(figsize=[15, 10])\n",
        "plt.title('Nomes mais populares da turma')\n",
        "\n",
        "plt.bar(nomes_populares['nome'], nomes_populares['quantidade'])\n",
        "\n",
        "for index,data in enumerate(nomes_populares['quantidade']):\n",
        "    plt.text(x=index , y=data+1, s=f\"{data}\", fontdict=dict(fontsize=14), ha='center')\n",
        "\n",
        "plt.xlabel('Nomes')\n",
        "plt.ylabel('Quantidade')\n",
        "\n",
        "plt.show()"
      ],
      "execution_count": null,
      "outputs": [
        {
          "output_type": "display_data",
          "data": {
            "image/png": "[encoded data removed]",
            "text/plain": [
              "<Figure size 1080x720 with 1 Axes>"
            ]
          },
          "metadata": {
            "tags": []
          }
        }
      ]
    },
    {
      "cell_type": "code",
      "metadata": {
        "colab": {
          "base_uri": "https://localhost:8080/"
        },
        "id": "sYrHGhs-VjOE",
        "outputId": "716983b8-6767-4c93-bbe2-e7199b9891db"
      },
      "source": [
        "# quantidade de pessoas com o mesmo nome dos facilitadores\n",
        "qtd_dayson = dataset_nomes_brasil.groupby('nome').qtde_nascimentos_ate_2010.sum()['Dayson']\n",
        "qtd_ana = dataset_nomes_brasil.groupby('nome').qtde_nascimentos_ate_2010.sum()['Ana']\n",
        "print(f'Dayson: {qtd_dayson} / Ana: {qtd_ana}')"
      ],
      "execution_count": null,
      "outputs": [
        {
          "output_type": "stream",
          "text": [
            "Dayson: 48 / Ana: 3089834\n"
          ],
          "name": "stdout"
        }
      ]
    },
    {
      "cell_type": "markdown",
      "metadata": {
        "id": "PiLvmVC7QvFS"
      },
      "source": [
        "# Análise nomes Times"
      ]
    },
    {
      "cell_type": "code",
      "metadata": {
        "colab": {
          "base_uri": "https://localhost:8080/"
        },
        "id": "COlcJHQqrRLD",
        "outputId": "37a5dd5f-7f2b-4fe2-b36a-ed92eb7df7a8"
      },
      "source": [
        "# quantidade de pessoas com o mesmo nome dos integrandes do time\n",
        "qtd_marian = dataset_nomes_brasil.groupby('nome').qtde_nascimentos_ate_2010.sum()['Marian']\n",
        "qtd_luzivan = dataset_nomes_brasil.groupby('nome').qtde_nascimentos_ate_2010.sum()['Luzivan']\n",
        "qtd_thiago = dataset_nomes_brasil.groupby('nome').qtde_nascimentos_ate_2010.sum()['Thiago']\n",
        "\n",
        "print(f'Marian: {qtd_marian} / Luzivan: {qtd_luzivan} / Thiago: {qtd_thiago}')"
      ],
      "execution_count": null,
      "outputs": [
        {
          "output_type": "stream",
          "text": [
            "Marian: 517 / Luzivan: 78 / Thiago: 332722\n"
          ],
          "name": "stdout"
        }
      ]
    },
    {
      "cell_type": "code",
      "metadata": {
        "colab": {
          "base_uri": "https://localhost:8080/"
        },
        "id": "xA6Eq1TVqsYT",
        "outputId": "322e97ee-10d3-4ce6-f8d1-338e6aa47f09"
      },
      "source": [
        "# Temos mais Marian em São Paulo (204)\n",
        "qtd_marian = dataset_nomes_brasil.groupby(['nome', 'uf']).qtde_nascimentos_ate_2010.sum()['Marian']\n",
        "qtd_marian"
      ],
      "execution_count": null,
      "outputs": [
        {
          "output_type": "execute_result",
          "data": {
            "text/plain": [
              "uf\n",
              "Amazonas               17\n",
              "Bahia                  17\n",
              "Ceará                  15\n",
              "Distrito Federal       11\n",
              "Mato Grosso do Sul     11\n",
              "Minas Gerais           31\n",
              "Paraná                 79\n",
              "Rio Grande do Sul      27\n",
              "Rio de Janeiro         85\n",
              "Santa Catarina         20\n",
              "São Paulo             204\n",
              "Name: qtde_nascimentos_ate_2010, dtype: int64"
            ]
          },
          "metadata": {
            "tags": []
          },
          "execution_count": 78
        }
      ]
    },
    {
      "cell_type": "code",
      "metadata": {
        "colab": {
          "base_uri": "https://localhost:8080/"
        },
        "id": "TyK9JgLmqyh3",
        "outputId": "d3c1b781-ffc9-4fbb-a67b-f908ae4377df"
      },
      "source": [
        "# Temos mais Luzivan em São Paulo (20)\n",
        "qtd_luzivan = dataset_nomes_brasil.groupby(['nome', 'uf']).qtde_nascimentos_ate_2010.sum()['Luzivan']\n",
        "qtd_luzivan"
      ],
      "execution_count": null,
      "outputs": [
        {
          "output_type": "execute_result",
          "data": {
            "text/plain": [
              "uf\n",
              "Acre                17\n",
              "Amazonas            16\n",
              "Distrito Federal    15\n",
              "Goiás               10\n",
              "São Paulo           20\n",
              "Name: qtde_nascimentos_ate_2010, dtype: int64"
            ]
          },
          "metadata": {
            "tags": []
          },
          "execution_count": 80
        }
      ]
    },
    {
      "cell_type": "code",
      "metadata": {
        "colab": {
          "base_uri": "https://localhost:8080/"
        },
        "id": "Vz9khVEBrBsP",
        "outputId": "065b53d7-c2bb-4cdc-8bd7-fca3223a7d78"
      },
      "source": [
        "# Temos mais Thiago em São Paulo (97263)\n",
        "qtd_thiago = dataset_nomes_brasil.groupby(['nome', 'uf']).qtde_nascimentos_ate_2010.sum()['Thiago']\n",
        "qtd_thiago = qtd_thiago.sort_values(ascending=False)\n",
        "qtd_thiago"
      ],
      "execution_count": null,
      "outputs": [
        {
          "output_type": "execute_result",
          "data": {
            "text/plain": [
              "uf\n",
              "São Paulo              97263\n",
              "Rio de Janeiro         47079\n",
              "Minas Gerais           33757\n",
              "Paraná                 17324\n",
              "Bahia                  13755\n",
              "Pernambuco             12410\n",
              "Goiás                  11483\n",
              "Pará                   11244\n",
              "Santa Catarina          9376\n",
              "Rio Grande do Sul       9350\n",
              "Ceará                   8265\n",
              "Maranhão                7340\n",
              "Espírito Santo          7279\n",
              "Distrito Federal        7064\n",
              "Amazonas                6172\n",
              "Paraíba                 5149\n",
              "Mato Grosso             4922\n",
              "Mato Grosso do Sul      4763\n",
              "Alagoas                 3912\n",
              "Rio Grande do Norte     3624\n",
              "Sergipe                 2691\n",
              "Piauí                   2211\n",
              "Tocantins               1963\n",
              "Rondônia                1872\n",
              "Acre                     943\n",
              "Amapá                    787\n",
              "Roraima                  724\n",
              "Name: qtde_nascimentos_ate_2010, dtype: int64"
            ]
          },
          "metadata": {
            "tags": []
          },
          "execution_count": 85
        }
      ]
    },
    {
      "cell_type": "code",
      "metadata": {
        "colab": {
          "base_uri": "https://localhost:8080/",
          "height": 80
        },
        "id": "QUTFXG2-QUy7",
        "outputId": "b65f2d38-185c-47bc-e3cb-21db8d6ff96f"
      },
      "source": [
        "total_qtd_nomes.query('nome == \"Tiago\"')"
      ],
      "execution_count": null,
      "outputs": [
        {
          "output_type": "execute_result",
          "data": {
            "text/html": [
              "<div>\n",
              "<style scoped>\n",
              "    .dataframe tbody tr th:only-of-type {\n",
              "        vertical-align: middle;\n",
              "    }\n",
              "\n",
              "    .dataframe tbody tr th {\n",
              "        vertical-align: top;\n",
              "    }\n",
              "\n",
              "    .dataframe thead th {\n",
              "        text-align: right;\n",
              "    }\n",
              "</style>\n",
              "<table border=\"1\" class=\"dataframe\">\n",
              "  <thead>\n",
              "    <tr style=\"text-align: right;\">\n",
              "      <th></th>\n",
              "      <th>ranking</th>\n",
              "      <th>nome</th>\n",
              "      <th>qtde_nascimentos_ate_2010</th>\n",
              "    </tr>\n",
              "  </thead>\n",
              "  <tbody>\n",
              "    <tr>\n",
              "      <th>39</th>\n",
              "      <td>39</td>\n",
              "      <td>Tiago</td>\n",
              "      <td>488692</td>\n",
              "    </tr>\n",
              "  </tbody>\n",
              "</table>\n",
              "</div>"
            ],
            "text/plain": [
              "    ranking   nome  qtde_nascimentos_ate_2010\n",
              "39       39  Tiago                     488692"
            ]
          },
          "metadata": {
            "tags": []
          },
          "execution_count": 41
        }
      ]
    },
    {
      "cell_type": "code",
      "metadata": {
        "colab": {
          "base_uri": "https://localhost:8080/",
          "height": 80
        },
        "id": "iUHe4FrwQEr8",
        "outputId": "16b7f8dc-1050-4be5-99fa-c65cf2e098bf"
      },
      "source": [
        "total_qtd_nomes.query('nome == \"Thiago\"')"
      ],
      "execution_count": null,
      "outputs": [
        {
          "output_type": "execute_result",
          "data": {
            "text/html": [
              "<div>\n",
              "<style scoped>\n",
              "    .dataframe tbody tr th:only-of-type {\n",
              "        vertical-align: middle;\n",
              "    }\n",
              "\n",
              "    .dataframe tbody tr th {\n",
              "        vertical-align: top;\n",
              "    }\n",
              "\n",
              "    .dataframe thead th {\n",
              "        text-align: right;\n",
              "    }\n",
              "</style>\n",
              "<table border=\"1\" class=\"dataframe\">\n",
              "  <thead>\n",
              "    <tr style=\"text-align: right;\">\n",
              "      <th></th>\n",
              "      <th>ranking</th>\n",
              "      <th>nome</th>\n",
              "      <th>qtde_nascimentos_ate_2010</th>\n",
              "    </tr>\n",
              "  </thead>\n",
              "  <tbody>\n",
              "    <tr>\n",
              "      <th>75</th>\n",
              "      <td>75</td>\n",
              "      <td>Thiago</td>\n",
              "      <td>332722</td>\n",
              "    </tr>\n",
              "  </tbody>\n",
              "</table>\n",
              "</div>"
            ],
            "text/plain": [
              "    ranking    nome  qtde_nascimentos_ate_2010\n",
              "75       75  Thiago                     332722"
            ]
          },
          "metadata": {
            "tags": []
          },
          "execution_count": 42
        }
      ]
    },
    {
      "cell_type": "code",
      "metadata": {
        "id": "OuP4i7d6Q2Db"
      },
      "source": [
        "# existem mais Tiago que Thiago\n",
        "# Tiago: 488692, Thiago: 332722"
      ],
      "execution_count": null,
      "outputs": []
    },
    {
      "cell_type": "code",
      "metadata": {
        "colab": {
          "base_uri": "https://localhost:8080/",
          "height": 665
        },
        "id": "Fhs34U-wQhd0",
        "outputId": "4b07fb28-861a-4c48-b028-ca8e9b2d7a11"
      },
      "source": [
        "def encontra_nomes_proximos(name):\n",
        "  linha = total_qtd_nomes.query(f'nome == \"{name}\"').iloc[0].ranking\n",
        "  return total_qtd_nomes.iloc[linha - 10: linha + 10]\n",
        "\n",
        "encontra_nomes_proximos('Thiago')"
      ],
      "execution_count": null,
      "outputs": [
        {
          "output_type": "execute_result",
          "data": {
            "text/html": [
              "<div>\n",
              "<style scoped>\n",
              "    .dataframe tbody tr th:only-of-type {\n",
              "        vertical-align: middle;\n",
              "    }\n",
              "\n",
              "    .dataframe tbody tr th {\n",
              "        vertical-align: top;\n",
              "    }\n",
              "\n",
              "    .dataframe thead th {\n",
              "        text-align: right;\n",
              "    }\n",
              "</style>\n",
              "<table border=\"1\" class=\"dataframe\">\n",
              "  <thead>\n",
              "    <tr style=\"text-align: right;\">\n",
              "      <th></th>\n",
              "      <th>ranking</th>\n",
              "      <th>nome</th>\n",
              "      <th>qtde_nascimentos_ate_2010</th>\n",
              "    </tr>\n",
              "  </thead>\n",
              "  <tbody>\n",
              "    <tr>\n",
              "      <th>65</th>\n",
              "      <td>65</td>\n",
              "      <td>Claudia</td>\n",
              "      <td>348542</td>\n",
              "    </tr>\n",
              "    <tr>\n",
              "      <th>66</th>\n",
              "      <td>66</td>\n",
              "      <td>Luana</td>\n",
              "      <td>348079</td>\n",
              "    </tr>\n",
              "    <tr>\n",
              "      <th>67</th>\n",
              "      <td>67</td>\n",
              "      <td>Rita</td>\n",
              "      <td>347212</td>\n",
              "    </tr>\n",
              "    <tr>\n",
              "      <th>68</th>\n",
              "      <td>68</td>\n",
              "      <td>Beatriz</td>\n",
              "      <td>346250</td>\n",
              "    </tr>\n",
              "    <tr>\n",
              "      <th>69</th>\n",
              "      <td>69</td>\n",
              "      <td>Sonia</td>\n",
              "      <td>344386</td>\n",
              "    </tr>\n",
              "    <tr>\n",
              "      <th>70</th>\n",
              "      <td>70</td>\n",
              "      <td>Claudio</td>\n",
              "      <td>342122</td>\n",
              "    </tr>\n",
              "    <tr>\n",
              "      <th>71</th>\n",
              "      <td>71</td>\n",
              "      <td>Matheus</td>\n",
              "      <td>339590</td>\n",
              "    </tr>\n",
              "    <tr>\n",
              "      <th>72</th>\n",
              "      <td>72</td>\n",
              "      <td>Renata</td>\n",
              "      <td>336273</td>\n",
              "    </tr>\n",
              "    <tr>\n",
              "      <th>73</th>\n",
              "      <td>73</td>\n",
              "      <td>Eliane</td>\n",
              "      <td>334365</td>\n",
              "    </tr>\n",
              "    <tr>\n",
              "      <th>74</th>\n",
              "      <td>74</td>\n",
              "      <td>Josefa</td>\n",
              "      <td>333664</td>\n",
              "    </tr>\n",
              "    <tr>\n",
              "      <th>75</th>\n",
              "      <td>75</td>\n",
              "      <td>Thiago</td>\n",
              "      <td>332722</td>\n",
              "    </tr>\n",
              "    <tr>\n",
              "      <th>76</th>\n",
              "      <td>76</td>\n",
              "      <td>Geraldo</td>\n",
              "      <td>332054</td>\n",
              "    </tr>\n",
              "    <tr>\n",
              "      <th>77</th>\n",
              "      <td>77</td>\n",
              "      <td>Simone</td>\n",
              "      <td>330680</td>\n",
              "    </tr>\n",
              "    <tr>\n",
              "      <th>78</th>\n",
              "      <td>78</td>\n",
              "      <td>Adriano</td>\n",
              "      <td>329836</td>\n",
              "    </tr>\n",
              "    <tr>\n",
              "      <th>79</th>\n",
              "      <td>79</td>\n",
              "      <td>Luciano</td>\n",
              "      <td>328634</td>\n",
              "    </tr>\n",
              "    <tr>\n",
              "      <th>80</th>\n",
              "      <td>80</td>\n",
              "      <td>Julio</td>\n",
              "      <td>326571</td>\n",
              "    </tr>\n",
              "    <tr>\n",
              "      <th>81</th>\n",
              "      <td>81</td>\n",
              "      <td>Natalia</td>\n",
              "      <td>324925</td>\n",
              "    </tr>\n",
              "    <tr>\n",
              "      <th>82</th>\n",
              "      <td>82</td>\n",
              "      <td>Renato</td>\n",
              "      <td>319426</td>\n",
              "    </tr>\n",
              "    <tr>\n",
              "      <th>83</th>\n",
              "      <td>83</td>\n",
              "      <td>Cristiane</td>\n",
              "      <td>318519</td>\n",
              "    </tr>\n",
              "    <tr>\n",
              "      <th>84</th>\n",
              "      <td>84</td>\n",
              "      <td>Carla</td>\n",
              "      <td>316106</td>\n",
              "    </tr>\n",
              "  </tbody>\n",
              "</table>\n",
              "</div>"
            ],
            "text/plain": [
              "    ranking       nome  qtde_nascimentos_ate_2010\n",
              "65       65    Claudia                     348542\n",
              "66       66      Luana                     348079\n",
              "67       67       Rita                     347212\n",
              "68       68    Beatriz                     346250\n",
              "69       69      Sonia                     344386\n",
              "70       70    Claudio                     342122\n",
              "71       71    Matheus                     339590\n",
              "72       72     Renata                     336273\n",
              "73       73     Eliane                     334365\n",
              "74       74     Josefa                     333664\n",
              "75       75     Thiago                     332722\n",
              "76       76    Geraldo                     332054\n",
              "77       77     Simone                     330680\n",
              "78       78    Adriano                     329836\n",
              "79       79    Luciano                     328634\n",
              "80       80      Julio                     326571\n",
              "81       81    Natalia                     324925\n",
              "82       82     Renato                     319426\n",
              "83       83  Cristiane                     318519\n",
              "84       84      Carla                     316106"
            ]
          },
          "metadata": {
            "tags": []
          },
          "execution_count": 43
        }
      ]
    },
    {
      "cell_type": "code",
      "metadata": {
        "colab": {
          "base_uri": "https://localhost:8080/",
          "height": 447
        },
        "id": "6ZCGsw6zVo3-",
        "outputId": "96527f85-01c1-4635-8928-484ec9f396d2"
      },
      "source": [
        "# nomes similares a Thiago\n",
        "frequencia_nomes = dataset_nomes_brasil.groupby('nome').qtde_nascimentos_ate_2010.sum()\n",
        "frequencia_nomes[29940:30010].sort_values(ascending=False).to_frame()"
      ],
      "execution_count": null,
      "outputs": [
        {
          "output_type": "execute_result",
          "data": {
            "text/html": [
              "<div>\n",
              "<style scoped>\n",
              "    .dataframe tbody tr th:only-of-type {\n",
              "        vertical-align: middle;\n",
              "    }\n",
              "\n",
              "    .dataframe tbody tr th {\n",
              "        vertical-align: top;\n",
              "    }\n",
              "\n",
              "    .dataframe thead th {\n",
              "        text-align: right;\n",
              "    }\n",
              "</style>\n",
              "<table border=\"1\" class=\"dataframe\">\n",
              "  <thead>\n",
              "    <tr style=\"text-align: right;\">\n",
              "      <th></th>\n",
              "      <th>qtde_nascimentos_ate_2010</th>\n",
              "    </tr>\n",
              "    <tr>\n",
              "      <th>nome</th>\n",
              "      <th></th>\n",
              "    </tr>\n",
              "  </thead>\n",
              "  <tbody>\n",
              "    <tr>\n",
              "      <th>Tiago</th>\n",
              "      <td>488692</td>\n",
              "    </tr>\n",
              "    <tr>\n",
              "      <th>Thiago</th>\n",
              "      <td>332722</td>\n",
              "    </tr>\n",
              "    <tr>\n",
              "      <th>Thomas</th>\n",
              "      <td>9360</td>\n",
              "    </tr>\n",
              "    <tr>\n",
              "      <th>Thyago</th>\n",
              "      <td>2154</td>\n",
              "    </tr>\n",
              "    <tr>\n",
              "      <th>Thomaz</th>\n",
              "      <td>1924</td>\n",
              "    </tr>\n",
              "    <tr>\n",
              "      <th>...</th>\n",
              "      <td>...</td>\n",
              "    </tr>\n",
              "    <tr>\n",
              "      <th>Thomazia</th>\n",
              "      <td>11</td>\n",
              "    </tr>\n",
              "    <tr>\n",
              "      <th>Thony</th>\n",
              "      <td>11</td>\n",
              "    </tr>\n",
              "    <tr>\n",
              "      <th>Thyara</th>\n",
              "      <td>11</td>\n",
              "    </tr>\n",
              "    <tr>\n",
              "      <th>Thyrso</th>\n",
              "      <td>11</td>\n",
              "    </tr>\n",
              "    <tr>\n",
              "      <th>Thirza</th>\n",
              "      <td>10</td>\n",
              "    </tr>\n",
              "  </tbody>\n",
              "</table>\n",
              "<p>70 rows × 1 columns</p>\n",
              "</div>"
            ],
            "text/plain": [
              "          qtde_nascimentos_ate_2010\n",
              "nome                               \n",
              "Tiago                        488692\n",
              "Thiago                       332722\n",
              "Thomas                         9360\n",
              "Thyago                         2154\n",
              "Thomaz                         1924\n",
              "...                             ...\n",
              "Thomazia                         11\n",
              "Thony                            11\n",
              "Thyara                           11\n",
              "Thyrso                           11\n",
              "Thirza                           10\n",
              "\n",
              "[70 rows x 1 columns]"
            ]
          },
          "metadata": {
            "tags": []
          },
          "execution_count": 44
        }
      ]
    },
    {
      "cell_type": "markdown",
      "metadata": {
        "id": "jB9jFPpDOC41"
      },
      "source": [
        "# Pesquisando nomes com caracteres especiais ou numéricos"
      ]
    },
    {
      "cell_type": "code",
      "metadata": {
        "colab": {
          "base_uri": "https://localhost:8080/",
          "height": 417
        },
        "id": "Xf_EdPrrG7Eq",
        "outputId": "8d55d513-589e-4a93-fa7b-8736bb3a65d5"
      },
      "source": [
        "def find_weird_names(string):\n",
        "    doc = sp(string)\n",
        "    search = [token.text for token in doc if not token.is_alpha]\n",
        "\n",
        "    if len(search) > 0:\n",
        "      return search\n",
        "\n",
        "d = {'nomes_estranhos': []}\n",
        "nomes_estranhos = pd.DataFrame(data=d)\n",
        "nomes_estranhos['nomes_estranhos'] = df['nome'].apply(find_weird_names)\n",
        "nomes_estranhos"
      ],
      "execution_count": null,
      "outputs": [
        {
          "output_type": "execute_result",
          "data": {
            "text/html": [
              "<div>\n",
              "<style scoped>\n",
              "    .dataframe tbody tr th:only-of-type {\n",
              "        vertical-align: middle;\n",
              "    }\n",
              "\n",
              "    .dataframe tbody tr th {\n",
              "        vertical-align: top;\n",
              "    }\n",
              "\n",
              "    .dataframe thead th {\n",
              "        text-align: right;\n",
              "    }\n",
              "</style>\n",
              "<table border=\"1\" class=\"dataframe\">\n",
              "  <thead>\n",
              "    <tr style=\"text-align: right;\">\n",
              "      <th></th>\n",
              "      <th>nomes_estranhos</th>\n",
              "    </tr>\n",
              "  </thead>\n",
              "  <tbody>\n",
              "    <tr>\n",
              "      <th>0</th>\n",
              "      <td>None</td>\n",
              "    </tr>\n",
              "    <tr>\n",
              "      <th>1</th>\n",
              "      <td>None</td>\n",
              "    </tr>\n",
              "    <tr>\n",
              "      <th>2</th>\n",
              "      <td>None</td>\n",
              "    </tr>\n",
              "    <tr>\n",
              "      <th>3</th>\n",
              "      <td>None</td>\n",
              "    </tr>\n",
              "    <tr>\n",
              "      <th>4</th>\n",
              "      <td>None</td>\n",
              "    </tr>\n",
              "    <tr>\n",
              "      <th>...</th>\n",
              "      <td>...</td>\n",
              "    </tr>\n",
              "    <tr>\n",
              "      <th>1959111</th>\n",
              "      <td>None</td>\n",
              "    </tr>\n",
              "    <tr>\n",
              "      <th>1959112</th>\n",
              "      <td>None</td>\n",
              "    </tr>\n",
              "    <tr>\n",
              "      <th>1959113</th>\n",
              "      <td>None</td>\n",
              "    </tr>\n",
              "    <tr>\n",
              "      <th>1959114</th>\n",
              "      <td>None</td>\n",
              "    </tr>\n",
              "    <tr>\n",
              "      <th>1959115</th>\n",
              "      <td>None</td>\n",
              "    </tr>\n",
              "  </tbody>\n",
              "</table>\n",
              "<p>1959116 rows × 1 columns</p>\n",
              "</div>"
            ],
            "text/plain": [
              "        nomes_estranhos\n",
              "0                  None\n",
              "1                  None\n",
              "2                  None\n",
              "3                  None\n",
              "4                  None\n",
              "...                 ...\n",
              "1959111            None\n",
              "1959112            None\n",
              "1959113            None\n",
              "1959114            None\n",
              "1959115            None\n",
              "\n",
              "[1959116 rows x 1 columns]"
            ]
          },
          "metadata": {
            "tags": []
          },
          "execution_count": 59
        }
      ]
    },
    {
      "cell_type": "code",
      "metadata": {
        "colab": {
          "base_uri": "https://localhost:8080/",
          "height": 80
        },
        "id": "RVUEVAv6Jy-q",
        "outputId": "dd560915-3570-4a5e-af11-270c430cbcda"
      },
      "source": [
        "nomes_estranhos = nomes_estranhos[nomes_estranhos['nomes_estranhos'].notna()]\n",
        "nomes_estranhos"
      ],
      "execution_count": null,
      "outputs": [
        {
          "output_type": "execute_result",
          "data": {
            "text/html": [
              "<div>\n",
              "<style scoped>\n",
              "    .dataframe tbody tr th:only-of-type {\n",
              "        vertical-align: middle;\n",
              "    }\n",
              "\n",
              "    .dataframe tbody tr th {\n",
              "        vertical-align: top;\n",
              "    }\n",
              "\n",
              "    .dataframe thead th {\n",
              "        text-align: right;\n",
              "    }\n",
              "</style>\n",
              "<table border=\"1\" class=\"dataframe\">\n",
              "  <thead>\n",
              "    <tr style=\"text-align: right;\">\n",
              "      <th></th>\n",
              "      <th>nomes_estranhos</th>\n",
              "    </tr>\n",
              "  </thead>\n",
              "  <tbody>\n",
              "    <tr>\n",
              "      <th>1195292</th>\n",
              "      <td>[Jo?O]</td>\n",
              "    </tr>\n",
              "  </tbody>\n",
              "</table>\n",
              "</div>"
            ],
            "text/plain": [
              "        nomes_estranhos\n",
              "1195292          [Jo?O]"
            ]
          },
          "metadata": {
            "tags": []
          },
          "execution_count": 60
        }
      ]
    },
    {
      "cell_type": "code",
      "metadata": {
        "id": "a3e6OHEYNJJr"
      },
      "source": [
        "# salvando arquivo em csv\n",
        "nomes_estranhos.to_csv('nomes_estranhos.csv')"
      ],
      "execution_count": null,
      "outputs": []
    },
    {
      "cell_type": "code",
      "metadata": {
        "colab": {
          "base_uri": "https://localhost:8080/"
        },
        "id": "UTZuIP-tDiL6",
        "outputId": "c1ce77ac-679c-4d0d-b7a9-312d48d07712"
      },
      "source": [
        "nome = df.groupby('nome').qtde_nascimentos_ate_2010.sum()['Jo?O']\n",
        "nome"
      ],
      "execution_count": null,
      "outputs": [
        {
          "output_type": "execute_result",
          "data": {
            "text/plain": [
              "16"
            ]
          },
          "metadata": {
            "tags": []
          },
          "execution_count": 65
        }
      ]
    }
  ]
}